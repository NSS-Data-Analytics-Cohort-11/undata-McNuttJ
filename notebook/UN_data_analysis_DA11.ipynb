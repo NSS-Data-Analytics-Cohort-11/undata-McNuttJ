{
 "cells": [
  {
   "cell_type": "code",
   "execution_count": 153,
   "id": "9d63120d-2220-40e9-b9e6-8762ee54db0a",
   "metadata": {},
   "outputs": [],
   "source": [
    "import pandas as pd\n",
    "import numpy as np\n",
    "import matplotlib.pyplot as plt\n",
    "import seaborn as sns"
   ]
  },
  {
   "cell_type": "code",
   "execution_count": 154,
   "id": "5ba8038d-a9df-40c9-89ac-10bda423a7ff",
   "metadata": {},
   "outputs": [],
   "source": [
    "gdp_df = pd.read_csv('../data/gdp_percapita.csv')"
   ]
  },
  {
   "cell_type": "code",
   "execution_count": 155,
   "id": "a64eed4e-3509-4e4b-8fe3-da582f85f1d5",
   "metadata": {},
   "outputs": [
    {
     "data": {
      "text/html": [
       "<div>\n",
       "<style scoped>\n",
       "    .dataframe tbody tr th:only-of-type {\n",
       "        vertical-align: middle;\n",
       "    }\n",
       "\n",
       "    .dataframe tbody tr th {\n",
       "        vertical-align: top;\n",
       "    }\n",
       "\n",
       "    .dataframe thead th {\n",
       "        text-align: right;\n",
       "    }\n",
       "</style>\n",
       "<table border=\"1\" class=\"dataframe\">\n",
       "  <thead>\n",
       "    <tr style=\"text-align: right;\">\n",
       "      <th></th>\n",
       "      <th>Country or Area</th>\n",
       "      <th>Year</th>\n",
       "      <th>Value</th>\n",
       "      <th>Value Footnotes</th>\n",
       "    </tr>\n",
       "  </thead>\n",
       "  <tbody>\n",
       "    <tr>\n",
       "      <th>0</th>\n",
       "      <td>Afghanistan</td>\n",
       "      <td>2021</td>\n",
       "      <td>1517.016266</td>\n",
       "      <td>NaN</td>\n",
       "    </tr>\n",
       "    <tr>\n",
       "      <th>1</th>\n",
       "      <td>Afghanistan</td>\n",
       "      <td>2020</td>\n",
       "      <td>1968.341002</td>\n",
       "      <td>NaN</td>\n",
       "    </tr>\n",
       "    <tr>\n",
       "      <th>2</th>\n",
       "      <td>Afghanistan</td>\n",
       "      <td>2019</td>\n",
       "      <td>2079.921861</td>\n",
       "      <td>NaN</td>\n",
       "    </tr>\n",
       "    <tr>\n",
       "      <th>3</th>\n",
       "      <td>Afghanistan</td>\n",
       "      <td>2018</td>\n",
       "      <td>2060.698973</td>\n",
       "      <td>NaN</td>\n",
       "    </tr>\n",
       "    <tr>\n",
       "      <th>4</th>\n",
       "      <td>Afghanistan</td>\n",
       "      <td>2017</td>\n",
       "      <td>2096.093111</td>\n",
       "      <td>NaN</td>\n",
       "    </tr>\n",
       "    <tr>\n",
       "      <th>...</th>\n",
       "      <td>...</td>\n",
       "      <td>...</td>\n",
       "      <td>...</td>\n",
       "      <td>...</td>\n",
       "    </tr>\n",
       "    <tr>\n",
       "      <th>7657</th>\n",
       "      <td>Zimbabwe</td>\n",
       "      <td>1994</td>\n",
       "      <td>2670.106615</td>\n",
       "      <td>NaN</td>\n",
       "    </tr>\n",
       "    <tr>\n",
       "      <th>7658</th>\n",
       "      <td>Zimbabwe</td>\n",
       "      <td>1993</td>\n",
       "      <td>2458.783255</td>\n",
       "      <td>NaN</td>\n",
       "    </tr>\n",
       "    <tr>\n",
       "      <th>7659</th>\n",
       "      <td>Zimbabwe</td>\n",
       "      <td>1992</td>\n",
       "      <td>2468.278257</td>\n",
       "      <td>NaN</td>\n",
       "    </tr>\n",
       "    <tr>\n",
       "      <th>7660</th>\n",
       "      <td>Zimbabwe</td>\n",
       "      <td>1991</td>\n",
       "      <td>2781.787843</td>\n",
       "      <td>NaN</td>\n",
       "    </tr>\n",
       "    <tr>\n",
       "      <th>7661</th>\n",
       "      <td>Zimbabwe</td>\n",
       "      <td>1990</td>\n",
       "      <td>2704.757299</td>\n",
       "      <td>NaN</td>\n",
       "    </tr>\n",
       "  </tbody>\n",
       "</table>\n",
       "<p>7662 rows × 4 columns</p>\n",
       "</div>"
      ],
      "text/plain": [
       "     Country or Area  Year        Value  Value Footnotes\n",
       "0        Afghanistan  2021  1517.016266              NaN\n",
       "1        Afghanistan  2020  1968.341002              NaN\n",
       "2        Afghanistan  2019  2079.921861              NaN\n",
       "3        Afghanistan  2018  2060.698973              NaN\n",
       "4        Afghanistan  2017  2096.093111              NaN\n",
       "...              ...   ...          ...              ...\n",
       "7657        Zimbabwe  1994  2670.106615              NaN\n",
       "7658        Zimbabwe  1993  2458.783255              NaN\n",
       "7659        Zimbabwe  1992  2468.278257              NaN\n",
       "7660        Zimbabwe  1991  2781.787843              NaN\n",
       "7661        Zimbabwe  1990  2704.757299              NaN\n",
       "\n",
       "[7662 rows x 4 columns]"
      ]
     },
     "execution_count": 155,
     "metadata": {},
     "output_type": "execute_result"
    }
   ],
   "source": [
    "gdp_df"
   ]
  },
  {
   "cell_type": "code",
   "execution_count": 156,
   "id": "ae91c665-9482-40e9-9315-7a30ffe729ba",
   "metadata": {},
   "outputs": [
    {
     "data": {
      "text/html": [
       "<div>\n",
       "<style scoped>\n",
       "    .dataframe tbody tr th:only-of-type {\n",
       "        vertical-align: middle;\n",
       "    }\n",
       "\n",
       "    .dataframe tbody tr th {\n",
       "        vertical-align: top;\n",
       "    }\n",
       "\n",
       "    .dataframe thead th {\n",
       "        text-align: right;\n",
       "    }\n",
       "</style>\n",
       "<table border=\"1\" class=\"dataframe\">\n",
       "  <thead>\n",
       "    <tr style=\"text-align: right;\">\n",
       "      <th></th>\n",
       "      <th>Country or Area</th>\n",
       "      <th>Year</th>\n",
       "      <th>Value</th>\n",
       "      <th>Value Footnotes</th>\n",
       "    </tr>\n",
       "  </thead>\n",
       "  <tbody>\n",
       "    <tr>\n",
       "      <th>0</th>\n",
       "      <td>Afghanistan</td>\n",
       "      <td>2021</td>\n",
       "      <td>1517.016266</td>\n",
       "      <td>NaN</td>\n",
       "    </tr>\n",
       "    <tr>\n",
       "      <th>1</th>\n",
       "      <td>Afghanistan</td>\n",
       "      <td>2020</td>\n",
       "      <td>1968.341002</td>\n",
       "      <td>NaN</td>\n",
       "    </tr>\n",
       "    <tr>\n",
       "      <th>2</th>\n",
       "      <td>Afghanistan</td>\n",
       "      <td>2019</td>\n",
       "      <td>2079.921861</td>\n",
       "      <td>NaN</td>\n",
       "    </tr>\n",
       "    <tr>\n",
       "      <th>3</th>\n",
       "      <td>Afghanistan</td>\n",
       "      <td>2018</td>\n",
       "      <td>2060.698973</td>\n",
       "      <td>NaN</td>\n",
       "    </tr>\n",
       "    <tr>\n",
       "      <th>4</th>\n",
       "      <td>Afghanistan</td>\n",
       "      <td>2017</td>\n",
       "      <td>2096.093111</td>\n",
       "      <td>NaN</td>\n",
       "    </tr>\n",
       "  </tbody>\n",
       "</table>\n",
       "</div>"
      ],
      "text/plain": [
       "  Country or Area  Year        Value  Value Footnotes\n",
       "0     Afghanistan  2021  1517.016266              NaN\n",
       "1     Afghanistan  2020  1968.341002              NaN\n",
       "2     Afghanistan  2019  2079.921861              NaN\n",
       "3     Afghanistan  2018  2060.698973              NaN\n",
       "4     Afghanistan  2017  2096.093111              NaN"
      ]
     },
     "execution_count": 156,
     "metadata": {},
     "output_type": "execute_result"
    }
   ],
   "source": [
    "gdp_df.head()"
   ]
  },
  {
   "cell_type": "markdown",
   "id": "0c4b21fe-194d-4029-8992-9fe6f1daddf6",
   "metadata": {},
   "source": [
    "# Q5"
   ]
  },
  {
   "cell_type": "markdown",
   "id": "58dd3059",
   "metadata": {},
   "source": [
    "# How many rows and columns are in gdp_df? What are the data types of each column?"
   ]
  },
  {
   "cell_type": "code",
   "execution_count": 157,
   "id": "8b2d8297-f01d-4ea5-ad9b-e6c9f00ea1be",
   "metadata": {
    "scrolled": true
   },
   "outputs": [
    {
     "data": {
      "text/plain": [
       "(7662, 4)"
      ]
     },
     "execution_count": 157,
     "metadata": {},
     "output_type": "execute_result"
    }
   ],
   "source": [
    "#Looking at how many rows and columns are in gdp_df.\n",
    "gdp_df.shape"
   ]
  },
  {
   "cell_type": "code",
   "execution_count": 158,
   "id": "3b5c5f1b",
   "metadata": {},
   "outputs": [
    {
     "name": "stdout",
     "output_type": "stream",
     "text": [
      "<class 'pandas.core.frame.DataFrame'>\n",
      "RangeIndex: 7662 entries, 0 to 7661\n",
      "Data columns (total 4 columns):\n",
      " #   Column           Non-Null Count  Dtype  \n",
      "---  ------           --------------  -----  \n",
      " 0   Country or Area  7662 non-null   object \n",
      " 1   Year             7662 non-null   int64  \n",
      " 2   Value            7662 non-null   float64\n",
      " 3   Value Footnotes  0 non-null      float64\n",
      "dtypes: float64(2), int64(1), object(1)\n",
      "memory usage: 239.6+ KB\n"
     ]
    }
   ],
   "source": [
    "#looking at info.\n",
    "gdp_df.info()"
   ]
  },
  {
   "cell_type": "markdown",
   "id": "92f55f18-dbaa-4752-9e95-d788e0b59811",
   "metadata": {},
   "source": [
    "# Answer: 7662 rows x 4 columns, data types: object, int64, float64"
   ]
  },
  {
   "cell_type": "code",
   "execution_count": null,
   "id": "21f0e216-4871-419e-9d2a-0e4a9f83cbf1",
   "metadata": {},
   "outputs": [],
   "source": []
  },
  {
   "cell_type": "markdown",
   "id": "630b7437-b5b0-4416-89a7-87b76865e057",
   "metadata": {},
   "source": [
    "# Q6"
   ]
  },
  {
   "cell_type": "markdown",
   "id": "420c9f57",
   "metadata": {},
   "source": [
    "# Drop the Value Footnotes column and rename the remaining three to 'Country', 'Year', and 'GDP_Per_Capita'."
   ]
  },
  {
   "cell_type": "code",
   "execution_count": 159,
   "id": "3e18dd25-da22-458b-bdb0-564d0f802505",
   "metadata": {},
   "outputs": [],
   "source": [
    "#Dropping the Value Footnotes column.\n",
    "del gdp_df['Value Footnotes']"
   ]
  },
  {
   "cell_type": "code",
   "execution_count": 160,
   "id": "6ea0019f-347f-4c99-b576-011c9b939a92",
   "metadata": {},
   "outputs": [],
   "source": [
    "#Renaming columns to Country, Year, and GDP_Per_Capita.\n",
    "gdp_df.columns = ['Country', 'Year', 'GDP_Per_Capita']"
   ]
  },
  {
   "cell_type": "code",
   "execution_count": 161,
   "id": "bfacc892-9f0e-48b1-bc5a-e860dfc634c5",
   "metadata": {},
   "outputs": [
    {
     "data": {
      "text/html": [
       "<div>\n",
       "<style scoped>\n",
       "    .dataframe tbody tr th:only-of-type {\n",
       "        vertical-align: middle;\n",
       "    }\n",
       "\n",
       "    .dataframe tbody tr th {\n",
       "        vertical-align: top;\n",
       "    }\n",
       "\n",
       "    .dataframe thead th {\n",
       "        text-align: right;\n",
       "    }\n",
       "</style>\n",
       "<table border=\"1\" class=\"dataframe\">\n",
       "  <thead>\n",
       "    <tr style=\"text-align: right;\">\n",
       "      <th></th>\n",
       "      <th>Country</th>\n",
       "      <th>Year</th>\n",
       "      <th>GDP_Per_Capita</th>\n",
       "    </tr>\n",
       "  </thead>\n",
       "  <tbody>\n",
       "    <tr>\n",
       "      <th>0</th>\n",
       "      <td>Afghanistan</td>\n",
       "      <td>2021</td>\n",
       "      <td>1517.016266</td>\n",
       "    </tr>\n",
       "    <tr>\n",
       "      <th>1</th>\n",
       "      <td>Afghanistan</td>\n",
       "      <td>2020</td>\n",
       "      <td>1968.341002</td>\n",
       "    </tr>\n",
       "    <tr>\n",
       "      <th>2</th>\n",
       "      <td>Afghanistan</td>\n",
       "      <td>2019</td>\n",
       "      <td>2079.921861</td>\n",
       "    </tr>\n",
       "    <tr>\n",
       "      <th>3</th>\n",
       "      <td>Afghanistan</td>\n",
       "      <td>2018</td>\n",
       "      <td>2060.698973</td>\n",
       "    </tr>\n",
       "    <tr>\n",
       "      <th>4</th>\n",
       "      <td>Afghanistan</td>\n",
       "      <td>2017</td>\n",
       "      <td>2096.093111</td>\n",
       "    </tr>\n",
       "  </tbody>\n",
       "</table>\n",
       "</div>"
      ],
      "text/plain": [
       "       Country  Year  GDP_Per_Capita\n",
       "0  Afghanistan  2021     1517.016266\n",
       "1  Afghanistan  2020     1968.341002\n",
       "2  Afghanistan  2019     2079.921861\n",
       "3  Afghanistan  2018     2060.698973\n",
       "4  Afghanistan  2017     2096.093111"
      ]
     },
     "execution_count": 161,
     "metadata": {},
     "output_type": "execute_result"
    }
   ],
   "source": [
    "gdp_df.head()"
   ]
  },
  {
   "cell_type": "code",
   "execution_count": 162,
   "id": "a43e7f30-c7e9-4991-85dc-084c57f745ef",
   "metadata": {},
   "outputs": [
    {
     "name": "stdout",
     "output_type": "stream",
     "text": [
      "          Country  Year  GDP_Per_Capita\n",
      "0     Afghanistan  2021     1517.016266\n",
      "1     Afghanistan  2020     1968.341002\n",
      "2     Afghanistan  2019     2079.921861\n",
      "3     Afghanistan  2018     2060.698973\n",
      "4     Afghanistan  2017     2096.093111\n",
      "...           ...   ...             ...\n",
      "7657     Zimbabwe  1994     2670.106615\n",
      "7658     Zimbabwe  1993     2458.783255\n",
      "7659     Zimbabwe  1992     2468.278257\n",
      "7660     Zimbabwe  1991     2781.787843\n",
      "7661     Zimbabwe  1990     2704.757299\n",
      "\n",
      "[7662 rows x 3 columns]\n"
     ]
    }
   ],
   "source": [
    "print(gdp_df)"
   ]
  },
  {
   "cell_type": "markdown",
   "id": "a3691fbb-0960-476c-8426-c9d7193d9027",
   "metadata": {},
   "source": [
    "# Answer: Used gdp_df.columns = ['Country', 'Year', 'GDP_Per_Capita'] to change column names."
   ]
  },
  {
   "cell_type": "code",
   "execution_count": null,
   "id": "8abb6aca-93f0-4d90-92b6-8cf5062d3981",
   "metadata": {},
   "outputs": [],
   "source": []
  },
  {
   "cell_type": "markdown",
   "id": "9d0987f1-e8c8-422d-b152-312716abdd44",
   "metadata": {},
   "source": [
    "# Q7"
   ]
  },
  {
   "cell_type": "markdown",
   "id": "eadf2c12",
   "metadata": {},
   "source": [
    "# How many countries have data for all years? Which countries are missing many years of data? Look at the number of observations per year. What do you notice?"
   ]
  },
  {
   "cell_type": "code",
   "execution_count": 163,
   "id": "20f66369-e36b-43cd-8263-d3b88658dbce",
   "metadata": {
    "scrolled": true
   },
   "outputs": [
    {
     "data": {
      "text/plain": [
       "Country           7662\n",
       "Year              7662\n",
       "GDP_Per_Capita    7662\n",
       "dtype: int64"
      ]
     },
     "execution_count": 163,
     "metadata": {},
     "output_type": "execute_result"
    }
   ],
   "source": [
    "#How many countries have data for all years? - Not right\n",
    "gdp_df.count()"
   ]
  },
  {
   "cell_type": "code",
   "execution_count": 224,
   "id": "3c0eefd5-2253-4cb2-97de-f0c27146f897",
   "metadata": {},
   "outputs": [
    {
     "data": {
      "text/plain": [
       "33"
      ]
     },
     "execution_count": 224,
     "metadata": {},
     "output_type": "execute_result"
    }
   ],
   "source": [
    "#how many unique years\n",
    "gdp_df['Year'].nunique()"
   ]
  },
  {
   "cell_type": "code",
   "execution_count": 164,
   "id": "9cdf8ed0-c57d-4526-9aa6-aac7098e6d70",
   "metadata": {},
   "outputs": [
    {
     "name": "stdout",
     "output_type": "stream",
     "text": [
      "Country           0\n",
      "Year              0\n",
      "GDP_Per_Capita    0\n",
      "dtype: int64\n"
     ]
    }
   ],
   "source": [
    "#Which countries are missing many years of data? - Not right\n",
    "print(gdp_df.isnull().sum())"
   ]
  },
  {
   "cell_type": "markdown",
   "id": "eb71560c-3448-4ac3-bd0e-8917e4dd4304",
   "metadata": {},
   "source": [
    "# \"group by\" and get a count of years."
   ]
  },
  {
   "cell_type": "code",
   "execution_count": 165,
   "id": "93d87a4b-06c1-4492-9406-44c32bc53ea0",
   "metadata": {
    "scrolled": true
   },
   "outputs": [],
   "source": [
    "grouped_countries = gdp_df.groupby([\"Country\"]).count().sort_values(\"Year\")"
   ]
  },
  {
   "cell_type": "code",
   "execution_count": 166,
   "id": "c96f5def-f582-40b2-8513-6aabcf2fa86b",
   "metadata": {},
   "outputs": [
    {
     "data": {
      "text/html": [
       "<div>\n",
       "<style scoped>\n",
       "    .dataframe tbody tr th:only-of-type {\n",
       "        vertical-align: middle;\n",
       "    }\n",
       "\n",
       "    .dataframe tbody tr th {\n",
       "        vertical-align: top;\n",
       "    }\n",
       "\n",
       "    .dataframe thead th {\n",
       "        text-align: right;\n",
       "    }\n",
       "</style>\n",
       "<table border=\"1\" class=\"dataframe\">\n",
       "  <thead>\n",
       "    <tr style=\"text-align: right;\">\n",
       "      <th></th>\n",
       "      <th>Year</th>\n",
       "      <th>GDP_Per_Capita</th>\n",
       "    </tr>\n",
       "    <tr>\n",
       "      <th>Country</th>\n",
       "      <th></th>\n",
       "      <th></th>\n",
       "    </tr>\n",
       "  </thead>\n",
       "  <tbody>\n",
       "    <tr>\n",
       "      <th>Djibouti</th>\n",
       "      <td>10</td>\n",
       "      <td>10</td>\n",
       "    </tr>\n",
       "    <tr>\n",
       "      <th>Somalia</th>\n",
       "      <td>10</td>\n",
       "      <td>10</td>\n",
       "    </tr>\n",
       "    <tr>\n",
       "      <th>Turks and Caicos Islands</th>\n",
       "      <td>12</td>\n",
       "      <td>12</td>\n",
       "    </tr>\n",
       "    <tr>\n",
       "      <th>Sint Maarten (Dutch part)</th>\n",
       "      <td>14</td>\n",
       "      <td>14</td>\n",
       "    </tr>\n",
       "    <tr>\n",
       "      <th>Kosovo</th>\n",
       "      <td>15</td>\n",
       "      <td>15</td>\n",
       "    </tr>\n",
       "  </tbody>\n",
       "</table>\n",
       "</div>"
      ],
      "text/plain": [
       "                           Year  GDP_Per_Capita\n",
       "Country                                        \n",
       "Djibouti                     10              10\n",
       "Somalia                      10              10\n",
       "Turks and Caicos Islands     12              12\n",
       "Sint Maarten (Dutch part)    14              14\n",
       "Kosovo                       15              15"
      ]
     },
     "execution_count": 166,
     "metadata": {},
     "output_type": "execute_result"
    }
   ],
   "source": [
    "grouped_countries.head()"
   ]
  },
  {
   "cell_type": "code",
   "execution_count": 167,
   "id": "4ae72549-e633-49f7-b7b8-4c0a90a1f92b",
   "metadata": {},
   "outputs": [
    {
     "data": {
      "text/html": [
       "<div>\n",
       "<style scoped>\n",
       "    .dataframe tbody tr th:only-of-type {\n",
       "        vertical-align: middle;\n",
       "    }\n",
       "\n",
       "    .dataframe tbody tr th {\n",
       "        vertical-align: top;\n",
       "    }\n",
       "\n",
       "    .dataframe thead th {\n",
       "        text-align: right;\n",
       "    }\n",
       "</style>\n",
       "<table border=\"1\" class=\"dataframe\">\n",
       "  <thead>\n",
       "    <tr style=\"text-align: right;\">\n",
       "      <th></th>\n",
       "      <th>Year</th>\n",
       "      <th>GDP_Per_Capita</th>\n",
       "    </tr>\n",
       "    <tr>\n",
       "      <th>Country</th>\n",
       "      <th></th>\n",
       "      <th></th>\n",
       "    </tr>\n",
       "  </thead>\n",
       "  <tbody>\n",
       "    <tr>\n",
       "      <th>Djibouti</th>\n",
       "      <td>10</td>\n",
       "      <td>10</td>\n",
       "    </tr>\n",
       "    <tr>\n",
       "      <th>Somalia</th>\n",
       "      <td>10</td>\n",
       "      <td>10</td>\n",
       "    </tr>\n",
       "    <tr>\n",
       "      <th>Turks and Caicos Islands</th>\n",
       "      <td>12</td>\n",
       "      <td>12</td>\n",
       "    </tr>\n",
       "    <tr>\n",
       "      <th>Sint Maarten (Dutch part)</th>\n",
       "      <td>14</td>\n",
       "      <td>14</td>\n",
       "    </tr>\n",
       "    <tr>\n",
       "      <th>Kosovo</th>\n",
       "      <td>15</td>\n",
       "      <td>15</td>\n",
       "    </tr>\n",
       "    <tr>\n",
       "      <th>...</th>\n",
       "      <td>...</td>\n",
       "      <td>...</td>\n",
       "    </tr>\n",
       "    <tr>\n",
       "      <th>Jamaica</th>\n",
       "      <td>33</td>\n",
       "      <td>33</td>\n",
       "    </tr>\n",
       "    <tr>\n",
       "      <th>Japan</th>\n",
       "      <td>33</td>\n",
       "      <td>33</td>\n",
       "    </tr>\n",
       "    <tr>\n",
       "      <th>Jordan</th>\n",
       "      <td>33</td>\n",
       "      <td>33</td>\n",
       "    </tr>\n",
       "    <tr>\n",
       "      <th>IDA total</th>\n",
       "      <td>33</td>\n",
       "      <td>33</td>\n",
       "    </tr>\n",
       "    <tr>\n",
       "      <th>Zimbabwe</th>\n",
       "      <td>33</td>\n",
       "      <td>33</td>\n",
       "    </tr>\n",
       "  </tbody>\n",
       "</table>\n",
       "<p>242 rows × 2 columns</p>\n",
       "</div>"
      ],
      "text/plain": [
       "                           Year  GDP_Per_Capita\n",
       "Country                                        \n",
       "Djibouti                     10              10\n",
       "Somalia                      10              10\n",
       "Turks and Caicos Islands     12              12\n",
       "Sint Maarten (Dutch part)    14              14\n",
       "Kosovo                       15              15\n",
       "...                         ...             ...\n",
       "Jamaica                      33              33\n",
       "Japan                        33              33\n",
       "Jordan                       33              33\n",
       "IDA total                    33              33\n",
       "Zimbabwe                     33              33\n",
       "\n",
       "[242 rows x 2 columns]"
      ]
     },
     "execution_count": 167,
     "metadata": {},
     "output_type": "execute_result"
    }
   ],
   "source": [
    "grouped_countries"
   ]
  },
  {
   "cell_type": "code",
   "execution_count": 168,
   "id": "6831c4c1-1e3c-4ff5-a8a6-4287901df07d",
   "metadata": {},
   "outputs": [
    {
     "name": "stdout",
     "output_type": "stream",
     "text": [
      "                             Year  GDP_Per_Capita\n",
      "Country                                          \n",
      "Papua New Guinea               33              33\n",
      "Pakistan                       33              33\n",
      "Australia                      33              33\n",
      "Pacific island small states    33              33\n",
      "Austria                        33              33\n",
      "...                           ...             ...\n",
      "Jamaica                        33              33\n",
      "Japan                          33              33\n",
      "Jordan                         33              33\n",
      "IDA total                      33              33\n",
      "Zimbabwe                       33              33\n",
      "\n",
      "[202 rows x 2 columns]\n"
     ]
    },
    {
     "data": {
      "text/plain": [
       "202"
      ]
     },
     "execution_count": 168,
     "metadata": {},
     "output_type": "execute_result"
    }
   ],
   "source": [
    "# Number of countries that have data for all years\n",
    "print((grouped_countries[grouped_countries['Year'] == 33]))\n",
    "len(grouped_countries[grouped_countries['Year'] == 33])"
   ]
  },
  {
   "cell_type": "code",
   "execution_count": 169,
   "id": "0a4a449e-5f71-41bd-83c4-43dc8e6bf2f6",
   "metadata": {},
   "outputs": [
    {
     "name": "stdout",
     "output_type": "stream",
     "text": [
      "                           Year  GDP_Per_Capita\n",
      "Country                                        \n",
      "Djibouti                     10              10\n",
      "Somalia                      10              10\n",
      "Turks and Caicos Islands     12              12\n",
      "Sint Maarten (Dutch part)    14              14\n",
      "Kosovo                       15              15\n",
      "Cayman Islands               16              16\n",
      "Nauru                        19              19\n",
      "Afghanistan                  20              20\n",
      "CuraÃ§ao                     22              22\n",
      "Palau                        22              22\n",
      "SÃ£o TomÃ© and Principe      22              22\n",
      "Qatar                        23              23\n",
      "Other small states           23              23\n",
      "Timor-Leste                  23              23\n",
      "Liberia                      23              23\n",
      "Libya                        24              24\n",
      "San Marino                   25              25\n",
      "Small states                 26              26\n",
      "Montenegro                   26              26\n",
      "Maldives                     28              28\n",
      "Moldova                      28              28\n",
      "Israel                       28              28\n",
      "Iceland                      28              28\n",
      "Estonia                      28              28\n",
      "Croatia                      28              28\n",
      "Serbia                       28              28\n",
      "Slovenia                     28              28\n",
      "Lithuania                    28              28\n",
      "Latvia                       28              28\n",
      "West Bank and Gaza           29              29\n",
      "Bosnia and Herzegovina       29              29\n",
      "Cambodia                     30              30\n",
      "Kuwait                       31              31\n",
      "Slovak Republic              31              31\n",
      "Turkmenistan                 31              31\n",
      "Lebanon                      32              32\n",
      "Tonga                        32              32\n",
      "Hungary                      32              32\n",
      "Aruba                        32              32\n",
      "Bhutan                       32              32\n"
     ]
    },
    {
     "data": {
      "text/plain": [
       "40"
      ]
     },
     "execution_count": 169,
     "metadata": {},
     "output_type": "execute_result"
    }
   ],
   "source": [
    "# Number of countries that don't have data for all years.\n",
    "print((grouped_countries[grouped_countries['Year'] != 33]))\n",
    "len(grouped_countries[grouped_countries['Year'] != 33])"
   ]
  },
  {
   "cell_type": "markdown",
   "id": "903e1f82-bcca-4df8-80f1-878c0b95787f",
   "metadata": {},
   "source": [
    "# Answer: 202 countries have data for all years and 40 do not."
   ]
  },
  {
   "cell_type": "code",
   "execution_count": null,
   "id": "c26d4af8-7941-4ef5-96a2-18ed155e2bc8",
   "metadata": {},
   "outputs": [],
   "source": []
  },
  {
   "cell_type": "markdown",
   "id": "6c5d86df-a230-4938-ad61-03f99adc0251",
   "metadata": {},
   "source": [
    "# Q8"
   ]
  },
  {
   "cell_type": "markdown",
   "id": "d60e0940",
   "metadata": {},
   "source": [
    "# In this question, you're going to create some plots to show the distribution of GDP per capita for the year 2020. Go to the Python Graph Gallery (https://www.python-graph-gallery.com/) and look at the different types of plots under the Distribution section. Create a histogram, a density plot, a boxplot, and a violin plot. What do you notice when you look at these plots? How do the plots compare and what information can you get out of one type that you can't necessarily get out of the others?"
   ]
  },
  {
   "cell_type": "code",
   "execution_count": 170,
   "id": "05a9e518-b874-425a-8553-24bc6ba78d63",
   "metadata": {},
   "outputs": [],
   "source": [
    "#create gdp_df2020\n",
    "gdp_df2020 = gdp_df[gdp_df[\"Year\"] == 2020]"
   ]
  },
  {
   "cell_type": "code",
   "execution_count": 171,
   "id": "e9573e69-8490-4711-b062-8cc2f7b4399f",
   "metadata": {},
   "outputs": [
    {
     "name": "stderr",
     "output_type": "stream",
     "text": [
      "C:\\Users\\mcnut\\anaconda3\\Lib\\site-packages\\seaborn\\_oldcore.py:1119: FutureWarning: use_inf_as_na option is deprecated and will be removed in a future version. Convert inf values to NaN before operating instead.\n",
      "  with pd.option_context('mode.use_inf_as_na', True):\n"
     ]
    },
    {
     "data": {
      "image/png": "[encoded data removed]",
      "text/plain": [
       "<Figure size 640x480 with 1 Axes>"
      ]
     },
     "metadata": {},
     "output_type": "display_data"
    }
   ],
   "source": [
    "#creating a histogram\n",
    "sns.histplot(data=gdp_df2020, x = \"GDP_Per_Capita\")\n",
    "plt.show()"
   ]
  },
  {
   "cell_type": "code",
   "execution_count": 172,
   "id": "26775bbd-6d37-4775-b2b4-a70ca6bd15d5",
   "metadata": {},
   "outputs": [],
   "source": [
    "#creating a density plot"
   ]
  },
  {
   "cell_type": "code",
   "execution_count": 173,
   "id": "cea5252a-3d9d-4d90-84e7-6f7f33d65a78",
   "metadata": {},
   "outputs": [
    {
     "name": "stderr",
     "output_type": "stream",
     "text": [
      "C:\\Users\\mcnut\\anaconda3\\Lib\\site-packages\\seaborn\\_oldcore.py:1119: FutureWarning: use_inf_as_na option is deprecated and will be removed in a future version. Convert inf values to NaN before operating instead.\n",
      "  with pd.option_context('mode.use_inf_as_na', True):\n"
     ]
    },
    {
     "data": {
      "image/png": "[encoded data removed]",
      "text/plain": [
       "<Figure size 640x480 with 1 Axes>"
      ]
     },
     "metadata": {},
     "output_type": "display_data"
    }
   ],
   "source": [
    "sns.kdeplot(gdp_df2020['GDP_Per_Capita'])\n",
    "plt.show()"
   ]
  },
  {
   "cell_type": "code",
   "execution_count": 174,
   "id": "59d40f76-d4d4-493b-858f-9d493c71abbf",
   "metadata": {},
   "outputs": [
    {
     "data": {
      "image/png": "[encoded data removed]",
      "text/plain": [
       "<Figure size 640x480 with 1 Axes>"
      ]
     },
     "metadata": {},
     "output_type": "display_data"
    }
   ],
   "source": [
    "#creating a box plot\n",
    "sns.boxplot(y=gdp_df2020['GDP_Per_Capita'])\n",
    "plt.show()"
   ]
  },
  {
   "cell_type": "code",
   "execution_count": 175,
   "id": "d8d01400-e186-4e02-94a9-15756917df30",
   "metadata": {},
   "outputs": [
    {
     "data": {
      "image/png": "[encoded data removed]",
      "text/plain": [
       "<Figure size 640x480 with 1 Axes>"
      ]
     },
     "metadata": {},
     "output_type": "display_data"
    }
   ],
   "source": [
    "#creating a violin plot\n",
    "sns.violinplot(y=gdp_df2020[\"GDP_Per_Capita\"])\n",
    "plt.show()"
   ]
  },
  {
   "cell_type": "markdown",
   "id": "0c44a91a-e8c2-4455-adb4-dcb69c49dd9a",
   "metadata": {},
   "source": [
    "# Answer: Most countries seem to have a GDP Per Capita of less than 20,000."
   ]
  },
  {
   "cell_type": "code",
   "execution_count": null,
   "id": "0f831e14-08da-4e6a-b240-9c95fb2266d3",
   "metadata": {},
   "outputs": [],
   "source": []
  },
  {
   "cell_type": "markdown",
   "id": "7d660ce6-ea8b-42c0-b9d0-8f25a35008ab",
   "metadata": {},
   "source": [
    "# Q9"
   ]
  },
  {
   "cell_type": "markdown",
   "id": "95c8524f",
   "metadata": {},
   "source": [
    "# What was the median GDP per capita value in 2020?"
   ]
  },
  {
   "cell_type": "code",
   "execution_count": 176,
   "id": "93458cf2-f605-4e2e-8e46-518e3d125726",
   "metadata": {},
   "outputs": [
    {
     "data": {
      "text/plain": [
       "13357.997573370474"
      ]
     },
     "execution_count": 176,
     "metadata": {},
     "output_type": "execute_result"
    }
   ],
   "source": [
    "# what is the median GDP per capita value in 2020\n",
    "gdp_per_cap2020 = gdp_df[gdp_df[\"Year\"] == 2020]\n",
    "gdp_per_cap2020[\"GDP_Per_Capita\"].median()"
   ]
  },
  {
   "cell_type": "markdown",
   "id": "42ba9ea0-5e71-4d38-9ec7-01c50d127153",
   "metadata": {},
   "source": [
    "# Answer: 13358"
   ]
  },
  {
   "cell_type": "code",
   "execution_count": null,
   "id": "f317f562-8378-4901-8f42-eb6175660f1a",
   "metadata": {},
   "outputs": [],
   "source": []
  },
  {
   "cell_type": "markdown",
   "id": "e399061f-82ab-4845-999d-a7346f8b5942",
   "metadata": {},
   "source": [
    "# Q10"
   ]
  },
  {
   "cell_type": "markdown",
   "id": "8a294ef7",
   "metadata": {},
   "source": [
    "# For this question, you're going to create some visualizations to compare GDP per capita values for the years 1990, 2000, 2010, and 2020. Start by subsetting your data to just these 4 years into a new DataFrame named gdp_decades. Using this, create the following 4 plots:\n",
    "\n",
    "A boxplot\n",
    "A barplot (check out the Barplot with Seaborn section: https://www.python-graph-gallery.com/barplot/#Seaborn)\n",
    "A scatterplot\n",
    "A scatterplot with a trend line overlaid (see this regplot example: https://www.python-graph-gallery.com/42-custom-linear-regression-fit-seaborn)\n",
    "Comment on what you observe has happened to GDP values over time and the relative strengths and weaknesses of each type of plot."
   ]
  },
  {
   "cell_type": "code",
   "execution_count": 177,
   "id": "9af7a92b-24a6-4764-802c-1eff828e7c69",
   "metadata": {},
   "outputs": [],
   "source": [
    "#subset the data frame for 1990,200,2010,2020\n",
    "gdp_decades = gdp_df[(gdp_df[\"Year\"].isin([1990,2000,2010,2020]))]"
   ]
  },
  {
   "cell_type": "code",
   "execution_count": 178,
   "id": "be73fe46-f95d-4605-b22c-4479f43f5551",
   "metadata": {},
   "outputs": [
    {
     "data": {
      "image/png": "[encoded data removed]",
      "text/plain": [
       "<Figure size 640x480 with 1 Axes>"
      ]
     },
     "metadata": {},
     "output_type": "display_data"
    }
   ],
   "source": [
    "# create boxplot\n",
    "sns.boxplot(x=gdp_decades[\"Year\"], y=gdp_decades[\"GDP_Per_Capita\"])\n",
    "plt.show()"
   ]
  },
  {
   "cell_type": "code",
   "execution_count": 179,
   "id": "116c683b-a7cf-4d36-b294-5fe454c5756d",
   "metadata": {},
   "outputs": [
    {
     "data": {
      "text/plain": [
       "<Axes: xlabel='Year', ylabel='GDP_Per_Capita'>"
      ]
     },
     "execution_count": 179,
     "metadata": {},
     "output_type": "execute_result"
    },
    {
     "data": {
      "image/png": "[encoded data removed]",
      "text/plain": [
       "<Figure size 640x480 with 1 Axes>"
      ]
     },
     "metadata": {},
     "output_type": "display_data"
    }
   ],
   "source": [
    "# create a barplot\n",
    "sns.barplot(\n",
    "    x=\"Year\",\n",
    "    y=\"GDP_Per_Capita\",\n",
    "    data=gdp_decades)"
   ]
  },
  {
   "cell_type": "code",
   "execution_count": 180,
   "id": "e41e25a1-950b-43fd-9578-2984d77a2ff8",
   "metadata": {},
   "outputs": [
    {
     "data": {
      "image/png": "[encoded data removed]",
      "text/plain": [
       "<Figure size 640x480 with 1 Axes>"
      ]
     },
     "metadata": {},
     "output_type": "display_data"
    }
   ],
   "source": [
    "# create a scatter plot\n",
    "sns.regplot(x=gdp_decades[\"Year\"], y=gdp_decades[\"GDP_Per_Capita\"], fit_reg=False)\n",
    "plt.show()"
   ]
  },
  {
   "cell_type": "code",
   "execution_count": 181,
   "id": "9f471d55-76f6-46cd-9d28-a5514431c500",
   "metadata": {},
   "outputs": [
    {
     "data": {
      "image/png": "[encoded data removed]",
      "text/plain": [
       "<Figure size 640x480 with 1 Axes>"
      ]
     },
     "metadata": {},
     "output_type": "display_data"
    }
   ],
   "source": [
    "# create a scatter plot with trend line.\n",
    "sns.regplot(x=gdp_decades[\"Year\"], y=gdp_decades[\"GDP_Per_Capita\"])\n",
    "plt.show()"
   ]
  },
  {
   "cell_type": "markdown",
   "id": "31b1c9da-3c8e-411b-b412-140759b2e56b",
   "metadata": {},
   "source": [
    "# Answer: GDP values have increased over time. The scatter plots do not show this well since it is categoried into specefic years. The bar plot seemed to show the best representation of this increase."
   ]
  },
  {
   "cell_type": "code",
   "execution_count": null,
   "id": "4bc685f6-ca77-42cb-b05a-641394ade880",
   "metadata": {},
   "outputs": [],
   "source": []
  },
  {
   "cell_type": "markdown",
   "id": "13459a9b-a6e1-409b-97d9-d8b934e60750",
   "metadata": {},
   "source": [
    "# Q11"
   ]
  },
  {
   "cell_type": "markdown",
   "id": "a1e14701-bd32-49aa-b04b-bae765d9d24a",
   "metadata": {},
   "source": [
    "# Which country was the first to have a GDP per capita greater than $100,000?"
   ]
  },
  {
   "cell_type": "code",
   "execution_count": 182,
   "id": "66b60d34-3a4d-4d14-acd7-f79557bf306b",
   "metadata": {},
   "outputs": [],
   "source": [
    "#find GDP per capitas above $100,000.\n",
    "gdp_over_100k = gdp_df[gdp_df[\"GDP_Per_Capita\"] > 100000]"
   ]
  },
  {
   "cell_type": "code",
   "execution_count": 183,
   "id": "7aca01df-e5a7-4c25-a193-bca7ee82e191",
   "metadata": {},
   "outputs": [
    {
     "data": {
      "text/plain": [
       "Country           United Arab Emirates\n",
       "Year                              1990\n",
       "GDP_Per_Capita           105893.626059\n",
       "Name: 7302, dtype: object"
      ]
     },
     "execution_count": 183,
     "metadata": {},
     "output_type": "execute_result"
    }
   ],
   "source": [
    "gdp_over_100k.loc[gdp_over_100k[\"Year\"].idxmin()]"
   ]
  },
  {
   "cell_type": "markdown",
   "id": "cd1d6d27-397f-42f5-825b-94fa9a88ea0f",
   "metadata": {},
   "source": [
    "# Answer: United Arab Emirates"
   ]
  },
  {
   "cell_type": "code",
   "execution_count": null,
   "id": "06ae0c48-88eb-4916-819a-908c15f54b7f",
   "metadata": {},
   "outputs": [],
   "source": []
  },
  {
   "cell_type": "markdown",
   "id": "a1b67fe9-b334-4b5a-b1c3-de7b73e41da6",
   "metadata": {},
   "source": [
    "# Q12"
   ]
  },
  {
   "cell_type": "markdown",
   "id": "1b6422d5-09fa-4213-b943-3694a7a29019",
   "metadata": {},
   "source": [
    "# Which country had the highest GDP per capita in 2020? Create a plot showing how this country's GDP per capita has changed over the timespan of the dataset."
   ]
  },
  {
   "cell_type": "code",
   "execution_count": 184,
   "id": "1bc75c68-0a35-44c1-9ce9-7924386d61df",
   "metadata": {},
   "outputs": [
    {
     "data": {
      "text/plain": [
       "Country              Luxembourg\n",
       "Year                       2020\n",
       "GDP_Per_Capita    111751.314751\n",
       "Name: 4148, dtype: object"
      ]
     },
     "execution_count": 184,
     "metadata": {},
     "output_type": "execute_result"
    }
   ],
   "source": [
    "#find country with highest GDP per capita in 2020.\n",
    "gdp_per_cap2020.loc[gdp_per_cap2020[\"GDP_Per_Capita\"].idxmax()]"
   ]
  },
  {
   "cell_type": "code",
   "execution_count": 185,
   "id": "77df7790-726e-49a4-9943-183181b6645e",
   "metadata": {},
   "outputs": [],
   "source": [
    "#create variable with just Luxembourg's GDP.\n",
    "gdp_luxembourg = gdp_df[gdp_df[\"Country\"] == \"Luxembourg\"]"
   ]
  },
  {
   "cell_type": "code",
   "execution_count": 186,
   "id": "1c829538-63c1-4482-a3bc-b59afb5a830c",
   "metadata": {},
   "outputs": [
    {
     "data": {
      "image/png": "[encoded data removed]",
      "text/plain": [
       "<Figure size 640x480 with 1 Axes>"
      ]
     },
     "metadata": {},
     "output_type": "display_data"
    }
   ],
   "source": [
    "#create graph based on Luxembourg's GDP.\n",
    "plt.plot(\"Year\",\"GDP_Per_Capita\", data = gdp_luxembourg)\n",
    "plt.show()"
   ]
  },
  {
   "cell_type": "markdown",
   "id": "615c31ac-b5b9-4d37-a110-fdba2ea91399",
   "metadata": {},
   "source": [
    "# Answer: Luxembourg's GDP increased significantly from 1990 to early 2000's, and has since leveled out."
   ]
  },
  {
   "cell_type": "code",
   "execution_count": null,
   "id": "69b1b0e0-3bba-43d0-af5e-18fd0590e315",
   "metadata": {},
   "outputs": [],
   "source": []
  },
  {
   "cell_type": "markdown",
   "id": "43d8d321-40e3-48be-bdaa-d9abe6075cb6",
   "metadata": {},
   "source": [
    "# Q13"
   ]
  },
  {
   "cell_type": "markdown",
   "id": "2b93b40e-31ac-499c-88a9-6208972e7c59",
   "metadata": {},
   "source": [
    "# Which country had the lowest GDP per capita in 2020? Create a plot showing how this country's GDP per capita has changed over the timespan of the dataset. Bonus question: Is it true in general that coutries had a higher GDP per capita in 2020 than in 1990? Which countries had lower GDP per capita in 2020 than in 1990?"
   ]
  },
  {
   "cell_type": "code",
   "execution_count": 187,
   "id": "15461071-07f9-427b-a895-6797910f9aa7",
   "metadata": {},
   "outputs": [
    {
     "data": {
      "text/plain": [
       "Country              Burundi\n",
       "Year                    2020\n",
       "GDP_Per_Capita    711.355263\n",
       "Name: 973, dtype: object"
      ]
     },
     "execution_count": 187,
     "metadata": {},
     "output_type": "execute_result"
    }
   ],
   "source": [
    "#find country with lowest GDP per capita in 2020.\n",
    "gdp_per_cap2020.loc[gdp_per_cap2020[\"GDP_Per_Capita\"].idxmin()]"
   ]
  },
  {
   "cell_type": "code",
   "execution_count": 188,
   "id": "470d5093-3fbc-451a-b99f-d0914361300f",
   "metadata": {},
   "outputs": [],
   "source": [
    "#create variable with just Burundi's GDP.\n",
    "gdp_burundi = gdp_df[gdp_df[\"Country\"] == \"Burundi\"]"
   ]
  },
  {
   "cell_type": "code",
   "execution_count": 189,
   "id": "cc7000ca-c767-467a-9393-619929fa7697",
   "metadata": {},
   "outputs": [
    {
     "data": {
      "image/png": "[encoded data removed]",
      "text/plain": [
       "<Figure size 640x480 with 1 Axes>"
      ]
     },
     "metadata": {},
     "output_type": "display_data"
    }
   ],
   "source": [
    "#create graph based on Burundi's GDP.\n",
    "plt.plot(\"Year\",\"GDP_Per_Capita\", data = gdp_burundi)\n",
    "plt.show()"
   ]
  },
  {
   "cell_type": "markdown",
   "id": "1748e9e8-26d7-49ac-ba83-ccecb0a67f8f",
   "metadata": {},
   "source": [
    "#13 Bonus: Is it true in general that coutries had a higher GDP per capita in 2020 than in 1990? Which countries had lower GDP per capita in 2020 than in 1990?"
   ]
  },
  {
   "cell_type": "code",
   "execution_count": null,
   "id": "59ab6d9d-c5a1-479b-9600-307c17f44098",
   "metadata": {},
   "outputs": [],
   "source": []
  },
  {
   "cell_type": "markdown",
   "id": "2aee2258-5121-4f3e-afd1-132d2e459dce",
   "metadata": {},
   "source": [
    "# Q14"
   ]
  },
  {
   "cell_type": "markdown",
   "id": "5ea8621f-867e-44e7-b0e3-f2c3cb997fc0",
   "metadata": {},
   "source": [
    "# Read in the internet use dataset into a DataFrame named internet_df. You will likely get errors when doing this. Check the arguments for the read_csv function to find ones that can help correct the errors (https://pandas.pydata.org/docs/reference/api/pandas.read_csv.html) Once you are able to read it in, take per a look at the top and bottom few rows to make sure that it has been read in correctly. Also, check the datatypes of the columns."
   ]
  },
  {
   "cell_type": "code",
   "execution_count": 190,
   "id": "43c8ec83-e49a-4950-a958-72fcbca6a146",
   "metadata": {},
   "outputs": [],
   "source": [
    "internet_df = pd.read_csv('../data/internet_use.csv',nrows=4495)"
   ]
  },
  {
   "cell_type": "code",
   "execution_count": 191,
   "id": "3fd1f539-74ab-4297-9510-328c3b3082d1",
   "metadata": {},
   "outputs": [
    {
     "data": {
      "text/html": [
       "<div>\n",
       "<style scoped>\n",
       "    .dataframe tbody tr th:only-of-type {\n",
       "        vertical-align: middle;\n",
       "    }\n",
       "\n",
       "    .dataframe tbody tr th {\n",
       "        vertical-align: top;\n",
       "    }\n",
       "\n",
       "    .dataframe thead th {\n",
       "        text-align: right;\n",
       "    }\n",
       "</style>\n",
       "<table border=\"1\" class=\"dataframe\">\n",
       "  <thead>\n",
       "    <tr style=\"text-align: right;\">\n",
       "      <th></th>\n",
       "      <th>Country or Area</th>\n",
       "      <th>Year</th>\n",
       "      <th>Value</th>\n",
       "      <th>Value Footnotes</th>\n",
       "    </tr>\n",
       "  </thead>\n",
       "  <tbody>\n",
       "    <tr>\n",
       "      <th>0</th>\n",
       "      <td>Afghanistan</td>\n",
       "      <td>2014</td>\n",
       "      <td>6.390000</td>\n",
       "      <td>NaN</td>\n",
       "    </tr>\n",
       "    <tr>\n",
       "      <th>1</th>\n",
       "      <td>Afghanistan</td>\n",
       "      <td>2013</td>\n",
       "      <td>5.900000</td>\n",
       "      <td>NaN</td>\n",
       "    </tr>\n",
       "    <tr>\n",
       "      <th>2</th>\n",
       "      <td>Afghanistan</td>\n",
       "      <td>2012</td>\n",
       "      <td>5.454545</td>\n",
       "      <td>NaN</td>\n",
       "    </tr>\n",
       "    <tr>\n",
       "      <th>3</th>\n",
       "      <td>Afghanistan</td>\n",
       "      <td>2011</td>\n",
       "      <td>5.000000</td>\n",
       "      <td>NaN</td>\n",
       "    </tr>\n",
       "    <tr>\n",
       "      <th>4</th>\n",
       "      <td>Afghanistan</td>\n",
       "      <td>2010</td>\n",
       "      <td>4.000000</td>\n",
       "      <td>NaN</td>\n",
       "    </tr>\n",
       "    <tr>\n",
       "      <th>...</th>\n",
       "      <td>...</td>\n",
       "      <td>...</td>\n",
       "      <td>...</td>\n",
       "      <td>...</td>\n",
       "    </tr>\n",
       "    <tr>\n",
       "      <th>4490</th>\n",
       "      <td>Zimbabwe</td>\n",
       "      <td>1997</td>\n",
       "      <td>0.033080</td>\n",
       "      <td>NaN</td>\n",
       "    </tr>\n",
       "    <tr>\n",
       "      <th>4491</th>\n",
       "      <td>Zimbabwe</td>\n",
       "      <td>1996</td>\n",
       "      <td>0.016790</td>\n",
       "      <td>NaN</td>\n",
       "    </tr>\n",
       "    <tr>\n",
       "      <th>4492</th>\n",
       "      <td>Zimbabwe</td>\n",
       "      <td>1995</td>\n",
       "      <td>0.007684</td>\n",
       "      <td>NaN</td>\n",
       "    </tr>\n",
       "    <tr>\n",
       "      <th>4493</th>\n",
       "      <td>Zimbabwe</td>\n",
       "      <td>1994</td>\n",
       "      <td>0.001739</td>\n",
       "      <td>NaN</td>\n",
       "    </tr>\n",
       "    <tr>\n",
       "      <th>4494</th>\n",
       "      <td>Zimbabwe</td>\n",
       "      <td>1990</td>\n",
       "      <td>0.000000</td>\n",
       "      <td>NaN</td>\n",
       "    </tr>\n",
       "  </tbody>\n",
       "</table>\n",
       "<p>4495 rows × 4 columns</p>\n",
       "</div>"
      ],
      "text/plain": [
       "     Country or Area  Year     Value  Value Footnotes\n",
       "0        Afghanistan  2014  6.390000              NaN\n",
       "1        Afghanistan  2013  5.900000              NaN\n",
       "2        Afghanistan  2012  5.454545              NaN\n",
       "3        Afghanistan  2011  5.000000              NaN\n",
       "4        Afghanistan  2010  4.000000              NaN\n",
       "...              ...   ...       ...              ...\n",
       "4490        Zimbabwe  1997  0.033080              NaN\n",
       "4491        Zimbabwe  1996  0.016790              NaN\n",
       "4492        Zimbabwe  1995  0.007684              NaN\n",
       "4493        Zimbabwe  1994  0.001739              NaN\n",
       "4494        Zimbabwe  1990  0.000000              NaN\n",
       "\n",
       "[4495 rows x 4 columns]"
      ]
     },
     "execution_count": 191,
     "metadata": {},
     "output_type": "execute_result"
    }
   ],
   "source": [
    "internet_df"
   ]
  },
  {
   "cell_type": "code",
   "execution_count": null,
   "id": "6c0a0c76-5f5d-4642-859c-819780c3da00",
   "metadata": {},
   "outputs": [],
   "source": []
  },
  {
   "cell_type": "markdown",
   "id": "d603f1c5-8f63-48a6-be6d-e3782d90e370",
   "metadata": {},
   "source": [
    "# Q15"
   ]
  },
  {
   "cell_type": "markdown",
   "id": "e69e2c01-9f55-4c0b-861b-2f1782a77c05",
   "metadata": {},
   "source": [
    "# Drop the Value Footnotes column and rename the remaining three to 'Country', 'Year', and 'Internet_Users_Pct'."
   ]
  },
  {
   "cell_type": "code",
   "execution_count": 192,
   "id": "d3186f58-7cdc-4e47-a557-ec5f37212901",
   "metadata": {},
   "outputs": [],
   "source": [
    "#drop column\n",
    "del internet_df['Value Footnotes']"
   ]
  },
  {
   "cell_type": "code",
   "execution_count": 193,
   "id": "de676af2-ff09-4c25-a801-fec608af7d0b",
   "metadata": {},
   "outputs": [
    {
     "data": {
      "text/html": [
       "<div>\n",
       "<style scoped>\n",
       "    .dataframe tbody tr th:only-of-type {\n",
       "        vertical-align: middle;\n",
       "    }\n",
       "\n",
       "    .dataframe tbody tr th {\n",
       "        vertical-align: top;\n",
       "    }\n",
       "\n",
       "    .dataframe thead th {\n",
       "        text-align: right;\n",
       "    }\n",
       "</style>\n",
       "<table border=\"1\" class=\"dataframe\">\n",
       "  <thead>\n",
       "    <tr style=\"text-align: right;\">\n",
       "      <th></th>\n",
       "      <th>Country or Area</th>\n",
       "      <th>Year</th>\n",
       "      <th>Value</th>\n",
       "    </tr>\n",
       "  </thead>\n",
       "  <tbody>\n",
       "    <tr>\n",
       "      <th>0</th>\n",
       "      <td>Afghanistan</td>\n",
       "      <td>2014</td>\n",
       "      <td>6.390000</td>\n",
       "    </tr>\n",
       "    <tr>\n",
       "      <th>1</th>\n",
       "      <td>Afghanistan</td>\n",
       "      <td>2013</td>\n",
       "      <td>5.900000</td>\n",
       "    </tr>\n",
       "    <tr>\n",
       "      <th>2</th>\n",
       "      <td>Afghanistan</td>\n",
       "      <td>2012</td>\n",
       "      <td>5.454545</td>\n",
       "    </tr>\n",
       "    <tr>\n",
       "      <th>3</th>\n",
       "      <td>Afghanistan</td>\n",
       "      <td>2011</td>\n",
       "      <td>5.000000</td>\n",
       "    </tr>\n",
       "    <tr>\n",
       "      <th>4</th>\n",
       "      <td>Afghanistan</td>\n",
       "      <td>2010</td>\n",
       "      <td>4.000000</td>\n",
       "    </tr>\n",
       "  </tbody>\n",
       "</table>\n",
       "</div>"
      ],
      "text/plain": [
       "  Country or Area  Year     Value\n",
       "0     Afghanistan  2014  6.390000\n",
       "1     Afghanistan  2013  5.900000\n",
       "2     Afghanistan  2012  5.454545\n",
       "3     Afghanistan  2011  5.000000\n",
       "4     Afghanistan  2010  4.000000"
      ]
     },
     "execution_count": 193,
     "metadata": {},
     "output_type": "execute_result"
    }
   ],
   "source": [
    "internet_df.head()"
   ]
  },
  {
   "cell_type": "code",
   "execution_count": 194,
   "id": "8b0296f0-4c3a-4fb7-92bc-1c161e31e16b",
   "metadata": {},
   "outputs": [],
   "source": [
    "#rename columns\n",
    "internet_df.columns = ['Country', 'Year', 'Internet_Users_Pct']"
   ]
  },
  {
   "cell_type": "code",
   "execution_count": 195,
   "id": "a96666a5-0342-4810-be4c-8795b10407a9",
   "metadata": {},
   "outputs": [
    {
     "data": {
      "text/html": [
       "<div>\n",
       "<style scoped>\n",
       "    .dataframe tbody tr th:only-of-type {\n",
       "        vertical-align: middle;\n",
       "    }\n",
       "\n",
       "    .dataframe tbody tr th {\n",
       "        vertical-align: top;\n",
       "    }\n",
       "\n",
       "    .dataframe thead th {\n",
       "        text-align: right;\n",
       "    }\n",
       "</style>\n",
       "<table border=\"1\" class=\"dataframe\">\n",
       "  <thead>\n",
       "    <tr style=\"text-align: right;\">\n",
       "      <th></th>\n",
       "      <th>Country</th>\n",
       "      <th>Year</th>\n",
       "      <th>Internet_Users_Pct</th>\n",
       "    </tr>\n",
       "  </thead>\n",
       "  <tbody>\n",
       "    <tr>\n",
       "      <th>0</th>\n",
       "      <td>Afghanistan</td>\n",
       "      <td>2014</td>\n",
       "      <td>6.390000</td>\n",
       "    </tr>\n",
       "    <tr>\n",
       "      <th>1</th>\n",
       "      <td>Afghanistan</td>\n",
       "      <td>2013</td>\n",
       "      <td>5.900000</td>\n",
       "    </tr>\n",
       "    <tr>\n",
       "      <th>2</th>\n",
       "      <td>Afghanistan</td>\n",
       "      <td>2012</td>\n",
       "      <td>5.454545</td>\n",
       "    </tr>\n",
       "    <tr>\n",
       "      <th>3</th>\n",
       "      <td>Afghanistan</td>\n",
       "      <td>2011</td>\n",
       "      <td>5.000000</td>\n",
       "    </tr>\n",
       "    <tr>\n",
       "      <th>4</th>\n",
       "      <td>Afghanistan</td>\n",
       "      <td>2010</td>\n",
       "      <td>4.000000</td>\n",
       "    </tr>\n",
       "  </tbody>\n",
       "</table>\n",
       "</div>"
      ],
      "text/plain": [
       "       Country  Year  Internet_Users_Pct\n",
       "0  Afghanistan  2014            6.390000\n",
       "1  Afghanistan  2013            5.900000\n",
       "2  Afghanistan  2012            5.454545\n",
       "3  Afghanistan  2011            5.000000\n",
       "4  Afghanistan  2010            4.000000"
      ]
     },
     "execution_count": 195,
     "metadata": {},
     "output_type": "execute_result"
    }
   ],
   "source": [
    "internet_df.head()"
   ]
  },
  {
   "cell_type": "code",
   "execution_count": null,
   "id": "3a0bf38d-7bf0-4a89-a12e-ac66dfbff08d",
   "metadata": {},
   "outputs": [],
   "source": []
  },
  {
   "cell_type": "markdown",
   "id": "31ddda93-5cff-49d4-b2a8-bf03a8bf8312",
   "metadata": {},
   "source": [
    "# Q16"
   ]
  },
  {
   "cell_type": "markdown",
   "id": "0b32d70a-dedc-4103-80c6-b75ab162cf12",
   "metadata": {},
   "source": [
    "# Look at the number of observations in this dataset per year. What do you notice?"
   ]
  },
  {
   "cell_type": "code",
   "execution_count": 196,
   "id": "b0f9785e-3393-4be3-a190-6d872d5960c1",
   "metadata": {},
   "outputs": [
    {
     "data": {
      "text/html": [
       "<div>\n",
       "<style scoped>\n",
       "    .dataframe tbody tr th:only-of-type {\n",
       "        vertical-align: middle;\n",
       "    }\n",
       "\n",
       "    .dataframe tbody tr th {\n",
       "        vertical-align: top;\n",
       "    }\n",
       "\n",
       "    .dataframe thead th {\n",
       "        text-align: right;\n",
       "    }\n",
       "</style>\n",
       "<table border=\"1\" class=\"dataframe\">\n",
       "  <thead>\n",
       "    <tr style=\"text-align: right;\">\n",
       "      <th></th>\n",
       "      <th>Country</th>\n",
       "      <th>Internet_Users_Pct</th>\n",
       "    </tr>\n",
       "    <tr>\n",
       "      <th>Year</th>\n",
       "      <th></th>\n",
       "      <th></th>\n",
       "    </tr>\n",
       "  </thead>\n",
       "  <tbody>\n",
       "    <tr>\n",
       "      <th>1960</th>\n",
       "      <td>7</td>\n",
       "      <td>7</td>\n",
       "    </tr>\n",
       "    <tr>\n",
       "      <th>1965</th>\n",
       "      <td>7</td>\n",
       "      <td>7</td>\n",
       "    </tr>\n",
       "    <tr>\n",
       "      <th>1970</th>\n",
       "      <td>7</td>\n",
       "      <td>7</td>\n",
       "    </tr>\n",
       "    <tr>\n",
       "      <th>1975</th>\n",
       "      <td>7</td>\n",
       "      <td>7</td>\n",
       "    </tr>\n",
       "    <tr>\n",
       "      <th>1976</th>\n",
       "      <td>7</td>\n",
       "      <td>7</td>\n",
       "    </tr>\n",
       "    <tr>\n",
       "      <th>1977</th>\n",
       "      <td>7</td>\n",
       "      <td>7</td>\n",
       "    </tr>\n",
       "    <tr>\n",
       "      <th>1978</th>\n",
       "      <td>7</td>\n",
       "      <td>7</td>\n",
       "    </tr>\n",
       "    <tr>\n",
       "      <th>1979</th>\n",
       "      <td>7</td>\n",
       "      <td>7</td>\n",
       "    </tr>\n",
       "    <tr>\n",
       "      <th>1980</th>\n",
       "      <td>7</td>\n",
       "      <td>7</td>\n",
       "    </tr>\n",
       "    <tr>\n",
       "      <th>1981</th>\n",
       "      <td>7</td>\n",
       "      <td>7</td>\n",
       "    </tr>\n",
       "    <tr>\n",
       "      <th>1982</th>\n",
       "      <td>7</td>\n",
       "      <td>7</td>\n",
       "    </tr>\n",
       "    <tr>\n",
       "      <th>1983</th>\n",
       "      <td>7</td>\n",
       "      <td>7</td>\n",
       "    </tr>\n",
       "    <tr>\n",
       "      <th>1984</th>\n",
       "      <td>7</td>\n",
       "      <td>7</td>\n",
       "    </tr>\n",
       "    <tr>\n",
       "      <th>1985</th>\n",
       "      <td>7</td>\n",
       "      <td>7</td>\n",
       "    </tr>\n",
       "    <tr>\n",
       "      <th>1986</th>\n",
       "      <td>7</td>\n",
       "      <td>7</td>\n",
       "    </tr>\n",
       "    <tr>\n",
       "      <th>1987</th>\n",
       "      <td>7</td>\n",
       "      <td>7</td>\n",
       "    </tr>\n",
       "    <tr>\n",
       "      <th>1988</th>\n",
       "      <td>7</td>\n",
       "      <td>7</td>\n",
       "    </tr>\n",
       "    <tr>\n",
       "      <th>1989</th>\n",
       "      <td>8</td>\n",
       "      <td>8</td>\n",
       "    </tr>\n",
       "    <tr>\n",
       "      <th>1990</th>\n",
       "      <td>210</td>\n",
       "      <td>210</td>\n",
       "    </tr>\n",
       "    <tr>\n",
       "      <th>1991</th>\n",
       "      <td>39</td>\n",
       "      <td>39</td>\n",
       "    </tr>\n",
       "    <tr>\n",
       "      <th>1992</th>\n",
       "      <td>50</td>\n",
       "      <td>50</td>\n",
       "    </tr>\n",
       "    <tr>\n",
       "      <th>1993</th>\n",
       "      <td>65</td>\n",
       "      <td>65</td>\n",
       "    </tr>\n",
       "    <tr>\n",
       "      <th>1994</th>\n",
       "      <td>91</td>\n",
       "      <td>91</td>\n",
       "    </tr>\n",
       "    <tr>\n",
       "      <th>1995</th>\n",
       "      <td>138</td>\n",
       "      <td>138</td>\n",
       "    </tr>\n",
       "    <tr>\n",
       "      <th>1996</th>\n",
       "      <td>175</td>\n",
       "      <td>175</td>\n",
       "    </tr>\n",
       "    <tr>\n",
       "      <th>1997</th>\n",
       "      <td>184</td>\n",
       "      <td>184</td>\n",
       "    </tr>\n",
       "    <tr>\n",
       "      <th>1998</th>\n",
       "      <td>190</td>\n",
       "      <td>190</td>\n",
       "    </tr>\n",
       "    <tr>\n",
       "      <th>1999</th>\n",
       "      <td>198</td>\n",
       "      <td>198</td>\n",
       "    </tr>\n",
       "    <tr>\n",
       "      <th>2000</th>\n",
       "      <td>199</td>\n",
       "      <td>199</td>\n",
       "    </tr>\n",
       "    <tr>\n",
       "      <th>2001</th>\n",
       "      <td>201</td>\n",
       "      <td>201</td>\n",
       "    </tr>\n",
       "    <tr>\n",
       "      <th>2002</th>\n",
       "      <td>202</td>\n",
       "      <td>202</td>\n",
       "    </tr>\n",
       "    <tr>\n",
       "      <th>2003</th>\n",
       "      <td>196</td>\n",
       "      <td>196</td>\n",
       "    </tr>\n",
       "    <tr>\n",
       "      <th>2004</th>\n",
       "      <td>199</td>\n",
       "      <td>199</td>\n",
       "    </tr>\n",
       "    <tr>\n",
       "      <th>2005</th>\n",
       "      <td>201</td>\n",
       "      <td>201</td>\n",
       "    </tr>\n",
       "    <tr>\n",
       "      <th>2006</th>\n",
       "      <td>200</td>\n",
       "      <td>200</td>\n",
       "    </tr>\n",
       "    <tr>\n",
       "      <th>2007</th>\n",
       "      <td>206</td>\n",
       "      <td>206</td>\n",
       "    </tr>\n",
       "    <tr>\n",
       "      <th>2008</th>\n",
       "      <td>204</td>\n",
       "      <td>204</td>\n",
       "    </tr>\n",
       "    <tr>\n",
       "      <th>2009</th>\n",
       "      <td>203</td>\n",
       "      <td>203</td>\n",
       "    </tr>\n",
       "    <tr>\n",
       "      <th>2010</th>\n",
       "      <td>203</td>\n",
       "      <td>203</td>\n",
       "    </tr>\n",
       "    <tr>\n",
       "      <th>2011</th>\n",
       "      <td>207</td>\n",
       "      <td>207</td>\n",
       "    </tr>\n",
       "    <tr>\n",
       "      <th>2012</th>\n",
       "      <td>203</td>\n",
       "      <td>203</td>\n",
       "    </tr>\n",
       "    <tr>\n",
       "      <th>2013</th>\n",
       "      <td>202</td>\n",
       "      <td>202</td>\n",
       "    </tr>\n",
       "    <tr>\n",
       "      <th>2014</th>\n",
       "      <td>202</td>\n",
       "      <td>202</td>\n",
       "    </tr>\n",
       "  </tbody>\n",
       "</table>\n",
       "</div>"
      ],
      "text/plain": [
       "      Country  Internet_Users_Pct\n",
       "Year                             \n",
       "1960        7                   7\n",
       "1965        7                   7\n",
       "1970        7                   7\n",
       "1975        7                   7\n",
       "1976        7                   7\n",
       "1977        7                   7\n",
       "1978        7                   7\n",
       "1979        7                   7\n",
       "1980        7                   7\n",
       "1981        7                   7\n",
       "1982        7                   7\n",
       "1983        7                   7\n",
       "1984        7                   7\n",
       "1985        7                   7\n",
       "1986        7                   7\n",
       "1987        7                   7\n",
       "1988        7                   7\n",
       "1989        8                   8\n",
       "1990      210                 210\n",
       "1991       39                  39\n",
       "1992       50                  50\n",
       "1993       65                  65\n",
       "1994       91                  91\n",
       "1995      138                 138\n",
       "1996      175                 175\n",
       "1997      184                 184\n",
       "1998      190                 190\n",
       "1999      198                 198\n",
       "2000      199                 199\n",
       "2001      201                 201\n",
       "2002      202                 202\n",
       "2003      196                 196\n",
       "2004      199                 199\n",
       "2005      201                 201\n",
       "2006      200                 200\n",
       "2007      206                 206\n",
       "2008      204                 204\n",
       "2009      203                 203\n",
       "2010      203                 203\n",
       "2011      207                 207\n",
       "2012      203                 203\n",
       "2013      202                 202\n",
       "2014      202                 202"
      ]
     },
     "execution_count": 196,
     "metadata": {},
     "output_type": "execute_result"
    }
   ],
   "source": [
    "internet_df.groupby([\"Year\"]).count()"
   ]
  },
  {
   "cell_type": "markdown",
   "id": "34960b06-504b-426b-b8c9-89bb09d219d7",
   "metadata": {},
   "source": [
    "# Answer: Observations increased in 1990."
   ]
  },
  {
   "cell_type": "code",
   "execution_count": null,
   "id": "bac6779f-58a1-4563-b990-0ff99f7d866a",
   "metadata": {},
   "outputs": [],
   "source": []
  },
  {
   "cell_type": "markdown",
   "id": "5a6ca8db-500c-4b7c-bcd1-9c8d7798a9e9",
   "metadata": {},
   "source": [
    "# Q17"
   ]
  },
  {
   "cell_type": "markdown",
   "id": "95c0a402-7743-4f18-9761-745457edaa96",
   "metadata": {},
   "source": [
    "# What is the first year to have a non-zero internet users percentage value?"
   ]
  },
  {
   "cell_type": "code",
   "execution_count": 197,
   "id": "c6256056-1f3a-4c8f-96cb-dbc8a74bcbc9",
   "metadata": {},
   "outputs": [],
   "source": [
    "# create df with internet users above 0 pct.\n",
    "internet_above0 = internet_df[internet_df[\"Internet_Users_Pct\"] > 0]"
   ]
  },
  {
   "cell_type": "code",
   "execution_count": 198,
   "id": "90aaf846-f954-482f-b0f9-3805debe87d6",
   "metadata": {},
   "outputs": [
    {
     "data": {
      "text/html": [
       "<div>\n",
       "<style scoped>\n",
       "    .dataframe tbody tr th:only-of-type {\n",
       "        vertical-align: middle;\n",
       "    }\n",
       "\n",
       "    .dataframe tbody tr th {\n",
       "        vertical-align: top;\n",
       "    }\n",
       "\n",
       "    .dataframe thead th {\n",
       "        text-align: right;\n",
       "    }\n",
       "</style>\n",
       "<table border=\"1\" class=\"dataframe\">\n",
       "  <thead>\n",
       "    <tr style=\"text-align: right;\">\n",
       "      <th></th>\n",
       "      <th>Country</th>\n",
       "      <th>Year</th>\n",
       "      <th>Internet_Users_Pct</th>\n",
       "    </tr>\n",
       "  </thead>\n",
       "  <tbody>\n",
       "    <tr>\n",
       "      <th>0</th>\n",
       "      <td>Afghanistan</td>\n",
       "      <td>2014</td>\n",
       "      <td>6.390000</td>\n",
       "    </tr>\n",
       "    <tr>\n",
       "      <th>1</th>\n",
       "      <td>Afghanistan</td>\n",
       "      <td>2013</td>\n",
       "      <td>5.900000</td>\n",
       "    </tr>\n",
       "    <tr>\n",
       "      <th>2</th>\n",
       "      <td>Afghanistan</td>\n",
       "      <td>2012</td>\n",
       "      <td>5.454545</td>\n",
       "    </tr>\n",
       "    <tr>\n",
       "      <th>3</th>\n",
       "      <td>Afghanistan</td>\n",
       "      <td>2011</td>\n",
       "      <td>5.000000</td>\n",
       "    </tr>\n",
       "    <tr>\n",
       "      <th>4</th>\n",
       "      <td>Afghanistan</td>\n",
       "      <td>2010</td>\n",
       "      <td>4.000000</td>\n",
       "    </tr>\n",
       "    <tr>\n",
       "      <th>...</th>\n",
       "      <td>...</td>\n",
       "      <td>...</td>\n",
       "      <td>...</td>\n",
       "    </tr>\n",
       "    <tr>\n",
       "      <th>4489</th>\n",
       "      <td>Zimbabwe</td>\n",
       "      <td>1998</td>\n",
       "      <td>0.081648</td>\n",
       "    </tr>\n",
       "    <tr>\n",
       "      <th>4490</th>\n",
       "      <td>Zimbabwe</td>\n",
       "      <td>1997</td>\n",
       "      <td>0.033080</td>\n",
       "    </tr>\n",
       "    <tr>\n",
       "      <th>4491</th>\n",
       "      <td>Zimbabwe</td>\n",
       "      <td>1996</td>\n",
       "      <td>0.016790</td>\n",
       "    </tr>\n",
       "    <tr>\n",
       "      <th>4492</th>\n",
       "      <td>Zimbabwe</td>\n",
       "      <td>1995</td>\n",
       "      <td>0.007684</td>\n",
       "    </tr>\n",
       "    <tr>\n",
       "      <th>4493</th>\n",
       "      <td>Zimbabwe</td>\n",
       "      <td>1994</td>\n",
       "      <td>0.001739</td>\n",
       "    </tr>\n",
       "  </tbody>\n",
       "</table>\n",
       "<p>4106 rows × 3 columns</p>\n",
       "</div>"
      ],
      "text/plain": [
       "          Country  Year  Internet_Users_Pct\n",
       "0     Afghanistan  2014            6.390000\n",
       "1     Afghanistan  2013            5.900000\n",
       "2     Afghanistan  2012            5.454545\n",
       "3     Afghanistan  2011            5.000000\n",
       "4     Afghanistan  2010            4.000000\n",
       "...           ...   ...                 ...\n",
       "4489     Zimbabwe  1998            0.081648\n",
       "4490     Zimbabwe  1997            0.033080\n",
       "4491     Zimbabwe  1996            0.016790\n",
       "4492     Zimbabwe  1995            0.007684\n",
       "4493     Zimbabwe  1994            0.001739\n",
       "\n",
       "[4106 rows x 3 columns]"
      ]
     },
     "execution_count": 198,
     "metadata": {},
     "output_type": "execute_result"
    }
   ],
   "source": [
    "internet_above0"
   ]
  },
  {
   "cell_type": "code",
   "execution_count": 199,
   "id": "365b28bf-84a9-44ee-be59-0abcbd643af8",
   "metadata": {},
   "outputs": [
    {
     "data": {
      "text/plain": [
       "1990"
      ]
     },
     "execution_count": 199,
     "metadata": {},
     "output_type": "execute_result"
    }
   ],
   "source": [
    "#find first year\n",
    "internet_above0[\"Year\"].min()"
   ]
  },
  {
   "cell_type": "markdown",
   "id": "c6c9d236-2482-42b3-aed2-513af1db75b5",
   "metadata": {},
   "source": [
    "# Answer: 1990"
   ]
  },
  {
   "cell_type": "code",
   "execution_count": null,
   "id": "63ccd00a-ec6f-4469-8514-67068d780c01",
   "metadata": {},
   "outputs": [],
   "source": []
  },
  {
   "cell_type": "markdown",
   "id": "f33d10ba-2678-44f2-9cf8-1c88241b7891",
   "metadata": {},
   "source": [
    "# Q18"
   ]
  },
  {
   "cell_type": "markdown",
   "id": "3c6362d2-0fd9-49c6-8943-a7644b8f1d41",
   "metadata": {},
   "source": [
    "# How does the distribution of internet users percent differ for 2000 and 2014?"
   ]
  },
  {
   "cell_type": "code",
   "execution_count": 200,
   "id": "63bd65c1-9c7c-4f44-a0fe-1ca72eaedfd1",
   "metadata": {},
   "outputs": [],
   "source": [
    "#make a df with just years 2000 and 2014\n",
    "internet_2000_2014 = internet_df[(internet_df[\"Year\"] == 2000) | (internet_df[\"Year\"] == 2014)]"
   ]
  },
  {
   "cell_type": "code",
   "execution_count": 201,
   "id": "c68fceb8",
   "metadata": {},
   "outputs": [
    {
     "data": {
      "text/plain": [
       "<bound method NDFrame.head of           Country  Year  Internet_Users_Pct\n",
       "0     Afghanistan  2014            6.390000\n",
       "15        Albania  2014           60.100000\n",
       "29        Albania  2000            0.114097\n",
       "36        Algeria  2014           18.090000\n",
       "50        Algeria  2000            0.491706\n",
       "...           ...   ...                 ...\n",
       "4445        Yemen  2000            0.082500\n",
       "4451       Zambia  2014           17.340000\n",
       "4465       Zambia  2000            0.191072\n",
       "4473     Zimbabwe  2014           19.890000\n",
       "4487     Zimbabwe  2000            0.401434\n",
       "\n",
       "[401 rows x 3 columns]>"
      ]
     },
     "execution_count": 201,
     "metadata": {},
     "output_type": "execute_result"
    }
   ],
   "source": [
    "internet_2000_2014.head"
   ]
  },
  {
   "cell_type": "code",
   "execution_count": 202,
   "id": "c4864e23",
   "metadata": {},
   "outputs": [
    {
     "data": {
      "text/plain": [
       "Text(0.5, 0, 'Internet_Users_Pct')"
      ]
     },
     "execution_count": 202,
     "metadata": {},
     "output_type": "execute_result"
    },
    {
     "data": {
      "image/png": "[encoded data removed]",
      "text/plain": [
       "<Figure size 640x480 with 1 Axes>"
      ]
     },
     "metadata": {},
     "output_type": "display_data"
    }
   ],
   "source": [
    "#plot distrobution of internet pct use by year.\n",
    "internet_2000_2014.groupby('Year')['Internet_Users_Pct'].plot(kind='kde')\n",
    "plt.legend([2000,2014],title='Year')\n",
    "plt.xlabel('Internet_Users_Pct')"
   ]
  },
  {
   "cell_type": "code",
   "execution_count": null,
   "id": "ac525521",
   "metadata": {},
   "outputs": [],
   "source": []
  },
  {
   "cell_type": "markdown",
   "id": "8e939137",
   "metadata": {},
   "source": [
    "# Q19"
   ]
  },
  {
   "cell_type": "markdown",
   "id": "cf60f076",
   "metadata": {},
   "source": [
    "# For how many countries was the percentage of internet users below 5% in 2014?"
   ]
  },
  {
   "cell_type": "code",
   "execution_count": 203,
   "id": "21224b64",
   "metadata": {},
   "outputs": [],
   "source": [
    "# make df for year 2014\n",
    "internet_df_2014 = internet_df[internet_df['Year'] == 2014]"
   ]
  },
  {
   "cell_type": "code",
   "execution_count": 204,
   "id": "ef2c77c7",
   "metadata": {},
   "outputs": [
    {
     "data": {
      "text/plain": [
       "<bound method NDFrame.head of                     Country  Year  Internet_Users_Pct\n",
       "0               Afghanistan  2014                6.39\n",
       "15                  Albania  2014               60.10\n",
       "36                  Algeria  2014               18.09\n",
       "59                  Andorra  2014               95.90\n",
       "78                   Angola  2014               21.26\n",
       "...                     ...   ...                 ...\n",
       "4389               Viet Nam  2014               48.31\n",
       "4409  Virgin Islands (U.S.)  2014               50.07\n",
       "4431                  Yemen  2014               22.55\n",
       "4451                 Zambia  2014               17.34\n",
       "4473               Zimbabwe  2014               19.89\n",
       "\n",
       "[202 rows x 3 columns]>"
      ]
     },
     "execution_count": 204,
     "metadata": {},
     "output_type": "execute_result"
    }
   ],
   "source": [
    "internet_df_2014.head"
   ]
  },
  {
   "cell_type": "code",
   "execution_count": 205,
   "id": "ee168238",
   "metadata": {},
   "outputs": [
    {
     "data": {
      "text/plain": [
       "16"
      ]
     },
     "execution_count": 205,
     "metadata": {},
     "output_type": "execute_result"
    }
   ],
   "source": [
    "#count number of rows where Pct is under 5%\n",
    "internet_df_2014[internet_df_2014['Internet_Users_Pct'] < 5.0].shape[0]"
   ]
  },
  {
   "cell_type": "markdown",
   "id": "eaaef221",
   "metadata": {},
   "source": [
    "# Answer: 16"
   ]
  },
  {
   "cell_type": "code",
   "execution_count": null,
   "id": "3369ac0b",
   "metadata": {},
   "outputs": [],
   "source": []
  },
  {
   "cell_type": "markdown",
   "id": "276647af",
   "metadata": {},
   "source": [
    "# Q20"
   ]
  },
  {
   "cell_type": "markdown",
   "id": "08961f37",
   "metadata": {},
   "source": [
    "# Merge the two DataFrames to one. Do this in a way that keeps all rows from each of the two DataFrames. Call the new DataFrame gdp_and_internet_use. Look at the first and last few rows to confirm that it merged correctly."
   ]
  },
  {
   "cell_type": "code",
   "execution_count": 206,
   "id": "d8ea3dd5",
   "metadata": {},
   "outputs": [],
   "source": [
    "#merge the dataframes using concat.\n",
    "gdp_and_internet_use = gdp_df.merge(internet_df, how='outer', on=('Country','Year'))"
   ]
  },
  {
   "cell_type": "code",
   "execution_count": 207,
   "id": "a81fc002",
   "metadata": {},
   "outputs": [
    {
     "data": {
      "text/plain": [
       "<bound method NDFrame.head of           Country  Year  GDP_Per_Capita  Internet_Users_Pct\n",
       "0     Afghanistan  2021     1517.016266                 NaN\n",
       "1     Afghanistan  2020     1968.341002                 NaN\n",
       "2     Afghanistan  2019     2079.921861                 NaN\n",
       "3     Afghanistan  2018     2060.698973                 NaN\n",
       "4     Afghanistan  2017     2096.093111                 NaN\n",
       "...           ...   ...             ...                 ...\n",
       "8731        Yemen  1999             NaN            0.056629\n",
       "8732        Yemen  1998             NaN            0.023323\n",
       "8733        Yemen  1997             NaN            0.015025\n",
       "8734        Yemen  1996             NaN            0.000621\n",
       "8735        Yemen  1990             NaN            0.000000\n",
       "\n",
       "[8736 rows x 4 columns]>"
      ]
     },
     "execution_count": 207,
     "metadata": {},
     "output_type": "execute_result"
    }
   ],
   "source": [
    "gdp_and_internet_use.head"
   ]
  },
  {
   "cell_type": "markdown",
   "id": "85795a2a",
   "metadata": {},
   "source": [
    "# Answer: code above, 12157 rows on new df."
   ]
  },
  {
   "cell_type": "code",
   "execution_count": null,
   "id": "5d5ec33d",
   "metadata": {},
   "outputs": [],
   "source": []
  },
  {
   "cell_type": "markdown",
   "id": "884389ad",
   "metadata": {},
   "source": [
    "# Q21"
   ]
  },
  {
   "cell_type": "markdown",
   "id": "a0008da5",
   "metadata": {},
   "source": [
    "# Find the three countries with the highest internet users percentage in 2014. Use a seaborn FacetGrid (https://seaborn.pydata.org/generated/seaborn.FacetGrid.html) to compare how the GDP per capita has changed over time for these three countries. What do you notice?"
   ]
  },
  {
   "cell_type": "code",
   "execution_count": 208,
   "id": "97a8d79e",
   "metadata": {},
   "outputs": [],
   "source": [
    "#set year to 2014 and sort Internet User Pct by top 3.\n",
    "gdp_and_internet_use_2014 = gdp_and_internet_use[gdp_and_internet_use['Year'] == 2014]\n",
    "top3_2014 = gdp_and_internet_use_2014.sort_values(['Internet_Users_Pct'], ascending=False).head(3)"
   ]
  },
  {
   "cell_type": "code",
   "execution_count": 209,
   "id": "916a6c06",
   "metadata": {},
   "outputs": [],
   "source": [
    "#create a list\n",
    "top_3_countries = ['Iceland', 'Bermuda', 'Norway']"
   ]
  },
  {
   "cell_type": "code",
   "execution_count": 210,
   "id": "8f426977",
   "metadata": {},
   "outputs": [
    {
     "data": {
      "text/plain": [
       "['Iceland', 'Bermuda', 'Norway']"
      ]
     },
     "execution_count": 210,
     "metadata": {},
     "output_type": "execute_result"
    }
   ],
   "source": [
    "top_3_countries"
   ]
  },
  {
   "cell_type": "code",
   "execution_count": 211,
   "id": "f2c43048",
   "metadata": {},
   "outputs": [],
   "source": [
    "gdp_df_top3 = gdp_df[gdp_df[\"Country\"].isin(top_3_countries)]"
   ]
  },
  {
   "cell_type": "code",
   "execution_count": 212,
   "id": "a4cd9bf0",
   "metadata": {},
   "outputs": [
    {
     "data": {
      "text/plain": [
       "<bound method NDFrame.head of       Country  Year  GDP_Per_Capita\n",
       "679   Bermuda  2022    81165.650944\n",
       "680   Bermuda  2021    78570.489515\n",
       "681   Bermuda  2020    76117.804744\n",
       "682   Bermuda  2019    81681.726668\n",
       "683   Bermuda  2018    81423.408453\n",
       "...       ...   ...             ...\n",
       "5232   Norway  1994    47728.440232\n",
       "5233   Norway  1993    45691.162079\n",
       "5234   Norway  1992    44692.360963\n",
       "5235   Norway  1991    43399.755863\n",
       "5236   Norway  1990    42302.263412\n",
       "\n",
       "[94 rows x 3 columns]>"
      ]
     },
     "execution_count": 212,
     "metadata": {},
     "output_type": "execute_result"
    }
   ],
   "source": [
    "gdp_df_top3.head"
   ]
  },
  {
   "cell_type": "code",
   "execution_count": 213,
   "id": "e84357f6",
   "metadata": {},
   "outputs": [
    {
     "data": {
      "text/plain": [
       "<seaborn.axisgrid.FacetGrid at 0x1c5cbacb850>"
      ]
     },
     "execution_count": 213,
     "metadata": {},
     "output_type": "execute_result"
    },
    {
     "data": {
      "image/png": "[encoded data removed]",
      "text/plain": [
       "<Figure size 900x300 with 3 Axes>"
      ]
     },
     "metadata": {},
     "output_type": "display_data"
    }
   ],
   "source": [
    "top3_gdp_grid = sns.FacetGrid(gdp_df_top3, col=\"Country\")\n",
    "top3_gdp_grid.map(sns.scatterplot, \"Year\",\"GDP_Per_Capita\")"
   ]
  },
  {
   "cell_type": "markdown",
   "id": "7a86d38d",
   "metadata": {},
   "source": [
    "# Answer: GDP per Capita generally increases but dipped for Bermuda."
   ]
  },
  {
   "cell_type": "code",
   "execution_count": null,
   "id": "33c28f7c",
   "metadata": {},
   "outputs": [],
   "source": []
  },
  {
   "cell_type": "markdown",
   "id": "86108aef",
   "metadata": {},
   "source": [
    "# Q22"
   ]
  },
  {
   "cell_type": "markdown",
   "id": "3a8f33c9",
   "metadata": {},
   "source": [
    "# Subset gdp_and_internet_use to just the year 2014. Save this as a new dataframe named gdp_and_internet_use_2014."
   ]
  },
  {
   "cell_type": "code",
   "execution_count": 214,
   "id": "de902232",
   "metadata": {},
   "outputs": [],
   "source": [
    "#already did in Q21. Code is below.\n",
    "gdp_and_internet_use_2014 = gdp_and_internet_use[gdp_and_internet_use['Year'] == 2014]"
   ]
  },
  {
   "cell_type": "markdown",
   "id": "76f0f578",
   "metadata": {},
   "source": [
    "# Answer: code above"
   ]
  },
  {
   "cell_type": "code",
   "execution_count": null,
   "id": "3acd77f8",
   "metadata": {},
   "outputs": [],
   "source": []
  },
  {
   "cell_type": "markdown",
   "id": "4ef8d3dc",
   "metadata": {},
   "source": [
    "# Q23"
   ]
  },
  {
   "cell_type": "markdown",
   "id": "0d2d53fb",
   "metadata": {},
   "source": [
    "# Create a plot which compares Internet Users Percentage and GDP per Capita for the year 2014. What do you notice from this plot? If you see any unusual points, investigate them."
   ]
  },
  {
   "cell_type": "code",
   "execution_count": 215,
   "id": "28a4bb64",
   "metadata": {
    "scrolled": true
   },
   "outputs": [
    {
     "data": {
      "text/plain": [
       "<Axes: xlabel='Internet_Users_Pct', ylabel='GDP_Per_Capita'>"
      ]
     },
     "execution_count": 215,
     "metadata": {},
     "output_type": "execute_result"
    },
    {
     "data": {
      "image/png": "[encoded data removed]",
      "text/plain": [
       "<Figure size 640x480 with 1 Axes>"
      ]
     },
     "metadata": {},
     "output_type": "display_data"
    }
   ],
   "source": [
    "#make a scatterplot.\n",
    "sns.regplot(x=gdp_and_internet_use_2014[\"Internet_Users_Pct\"], y=gdp_and_internet_use_2014['GDP_Per_Capita'])"
   ]
  },
  {
   "cell_type": "code",
   "execution_count": 216,
   "id": "d3f301fa",
   "metadata": {},
   "outputs": [],
   "source": [
    "outlier_group = gdp_and_internet_use_2014[gdp_and_internet_use_2014['GDP_Per_Capita'] > 80000]"
   ]
  },
  {
   "cell_type": "code",
   "execution_count": 217,
   "id": "fc6657f6",
   "metadata": {},
   "outputs": [
    {
     "data": {
      "text/html": [
       "<div>\n",
       "<style scoped>\n",
       "    .dataframe tbody tr th:only-of-type {\n",
       "        vertical-align: middle;\n",
       "    }\n",
       "\n",
       "    .dataframe tbody tr th {\n",
       "        vertical-align: top;\n",
       "    }\n",
       "\n",
       "    .dataframe thead th {\n",
       "        text-align: right;\n",
       "    }\n",
       "</style>\n",
       "<table border=\"1\" class=\"dataframe\">\n",
       "  <thead>\n",
       "    <tr style=\"text-align: right;\">\n",
       "      <th></th>\n",
       "      <th>Country</th>\n",
       "      <th>Year</th>\n",
       "      <th>GDP_Per_Capita</th>\n",
       "      <th>Internet_Users_Pct</th>\n",
       "    </tr>\n",
       "  </thead>\n",
       "  <tbody>\n",
       "    <tr>\n",
       "      <th>4154</th>\n",
       "      <td>Luxembourg</td>\n",
       "      <td>2014</td>\n",
       "      <td>113313.578898</td>\n",
       "      <td>94.67</td>\n",
       "    </tr>\n",
       "    <tr>\n",
       "      <th>4187</th>\n",
       "      <td>Macao SAR, China</td>\n",
       "      <td>2014</td>\n",
       "      <td>151616.402364</td>\n",
       "      <td>NaN</td>\n",
       "    </tr>\n",
       "    <tr>\n",
       "      <th>5752</th>\n",
       "      <td>Qatar</td>\n",
       "      <td>2014</td>\n",
       "      <td>106141.326189</td>\n",
       "      <td>91.49</td>\n",
       "    </tr>\n",
       "    <tr>\n",
       "      <th>6114</th>\n",
       "      <td>Singapore</td>\n",
       "      <td>2014</td>\n",
       "      <td>87702.521984</td>\n",
       "      <td>82.00</td>\n",
       "    </tr>\n",
       "  </tbody>\n",
       "</table>\n",
       "</div>"
      ],
      "text/plain": [
       "               Country  Year  GDP_Per_Capita  Internet_Users_Pct\n",
       "4154        Luxembourg  2014   113313.578898               94.67\n",
       "4187  Macao SAR, China  2014   151616.402364                 NaN\n",
       "5752             Qatar  2014   106141.326189               91.49\n",
       "6114         Singapore  2014    87702.521984               82.00"
      ]
     },
     "execution_count": 217,
     "metadata": {},
     "output_type": "execute_result"
    }
   ],
   "source": [
    "outlier_group.head()"
   ]
  },
  {
   "cell_type": "markdown",
   "id": "d2db8ef3",
   "metadata": {},
   "source": [
    "# Answer: 4 countries had GDP above 80k. 1 was not shown in the graph because it did not have any information for Internet User Percentage."
   ]
  },
  {
   "cell_type": "code",
   "execution_count": null,
   "id": "644adb9a",
   "metadata": {},
   "outputs": [],
   "source": []
  },
  {
   "cell_type": "markdown",
   "id": "e381bb47",
   "metadata": {},
   "source": [
    "# Q24"
   ]
  },
  {
   "cell_type": "markdown",
   "id": "60730f9b",
   "metadata": {},
   "source": [
    "# Stretch Question: Use the qcut function from pandas (https://pandas.pydata.org/docs/reference/api/pandas.qcut.html) to divide countries in gdp_per_capita_2014 into three groups based on their GDP per capita values. Label these groups as \"Low\", \"Medium\", and \"High\". Put these labels in a new column, named \"GDP_group\"."
   ]
  },
  {
   "cell_type": "code",
   "execution_count": 221,
   "id": "c162903e",
   "metadata": {},
   "outputs": [
    {
     "data": {
      "text/html": [
       "<div>\n",
       "<style scoped>\n",
       "    .dataframe tbody tr th:only-of-type {\n",
       "        vertical-align: middle;\n",
       "    }\n",
       "\n",
       "    .dataframe tbody tr th {\n",
       "        vertical-align: top;\n",
       "    }\n",
       "\n",
       "    .dataframe thead th {\n",
       "        text-align: right;\n",
       "    }\n",
       "</style>\n",
       "<table border=\"1\" class=\"dataframe\">\n",
       "  <thead>\n",
       "    <tr style=\"text-align: right;\">\n",
       "      <th></th>\n",
       "      <th>Country</th>\n",
       "      <th>Year</th>\n",
       "      <th>GDP_Per_Capita</th>\n",
       "      <th>Internet_Users_Pct</th>\n",
       "      <th>GDP_group</th>\n",
       "    </tr>\n",
       "  </thead>\n",
       "  <tbody>\n",
       "    <tr>\n",
       "      <th>7</th>\n",
       "      <td>Afghanistan</td>\n",
       "      <td>2014</td>\n",
       "      <td>2144.449634</td>\n",
       "      <td>6.39</td>\n",
       "      <td>Low</td>\n",
       "    </tr>\n",
       "    <tr>\n",
       "      <th>28</th>\n",
       "      <td>Africa Eastern and Southern</td>\n",
       "      <td>2014</td>\n",
       "      <td>3642.875373</td>\n",
       "      <td>NaN</td>\n",
       "      <td>Low</td>\n",
       "    </tr>\n",
       "    <tr>\n",
       "      <th>61</th>\n",
       "      <td>Africa Western and Central</td>\n",
       "      <td>2014</td>\n",
       "      <td>4146.994622</td>\n",
       "      <td>NaN</td>\n",
       "      <td>Low</td>\n",
       "    </tr>\n",
       "    <tr>\n",
       "      <th>94</th>\n",
       "      <td>Albania</td>\n",
       "      <td>2014</td>\n",
       "      <td>11586.817446</td>\n",
       "      <td>60.10</td>\n",
       "      <td>Medium</td>\n",
       "    </tr>\n",
       "    <tr>\n",
       "      <th>127</th>\n",
       "      <td>Algeria</td>\n",
       "      <td>2014</td>\n",
       "      <td>11561.259795</td>\n",
       "      <td>18.09</td>\n",
       "      <td>Medium</td>\n",
       "    </tr>\n",
       "  </tbody>\n",
       "</table>\n",
       "</div>"
      ],
      "text/plain": [
       "                         Country  Year  GDP_Per_Capita  Internet_Users_Pct  \\\n",
       "7                    Afghanistan  2014     2144.449634                6.39   \n",
       "28   Africa Eastern and Southern  2014     3642.875373                 NaN   \n",
       "61    Africa Western and Central  2014     4146.994622                 NaN   \n",
       "94                       Albania  2014    11586.817446               60.10   \n",
       "127                      Algeria  2014    11561.259795               18.09   \n",
       "\n",
       "    GDP_group  \n",
       "7         Low  \n",
       "28        Low  \n",
       "61        Low  \n",
       "94     Medium  \n",
       "127    Medium  "
      ]
     },
     "execution_count": 221,
     "metadata": {},
     "output_type": "execute_result"
    }
   ],
   "source": [
    "#plug in variables for qcut\n",
    "gdp_and_internet_use_2014.loc[:,'GDP_group'] = pd.qcut(gdp_and_internet_use_2014[('GDP_Per_Capita')], 3, labels=['Low','Medium','High'])\n",
    "gdp_and_internet_use_2014.head()"
   ]
  },
  {
   "cell_type": "markdown",
   "id": "bf1b8bf2",
   "metadata": {},
   "source": [
    "# Answer: Above code"
   ]
  },
  {
   "cell_type": "code",
   "execution_count": null,
   "id": "1e01c8aa",
   "metadata": {},
   "outputs": [],
   "source": []
  },
  {
   "cell_type": "markdown",
   "id": "c4421cae",
   "metadata": {},
   "source": [
    "# Q25"
   ]
  },
  {
   "cell_type": "markdown",
   "id": "6bc9d52a",
   "metadata": {},
   "source": [
    "# Stretch Question: How does the median internet users percentage compare for the three gdp groups?"
   ]
  },
  {
   "cell_type": "code",
   "execution_count": 219,
   "id": "b3fe3c21",
   "metadata": {},
   "outputs": [
    {
     "name": "stderr",
     "output_type": "stream",
     "text": [
      "C:\\Users\\mcnut\\AppData\\Local\\Temp\\ipykernel_3064\\1547688432.py:1: FutureWarning: The default of observed=False is deprecated and will be changed to True in a future version of pandas. Pass observed=False to retain current behavior or observed=True to adopt the future default and silence this warning.\n",
      "  median_groups = gdp_and_internet_use_2014.groupby(['GDP_group']).median('Internet_Users_Pct')\n"
     ]
    },
    {
     "data": {
      "text/html": [
       "<div>\n",
       "<style scoped>\n",
       "    .dataframe tbody tr th:only-of-type {\n",
       "        vertical-align: middle;\n",
       "    }\n",
       "\n",
       "    .dataframe tbody tr th {\n",
       "        vertical-align: top;\n",
       "    }\n",
       "\n",
       "    .dataframe thead th {\n",
       "        text-align: right;\n",
       "    }\n",
       "</style>\n",
       "<table border=\"1\" class=\"dataframe\">\n",
       "  <thead>\n",
       "    <tr style=\"text-align: right;\">\n",
       "      <th></th>\n",
       "      <th>Year</th>\n",
       "      <th>GDP_Per_Capita</th>\n",
       "      <th>Internet_Users_Pct</th>\n",
       "    </tr>\n",
       "    <tr>\n",
       "      <th>GDP_group</th>\n",
       "      <th></th>\n",
       "      <th></th>\n",
       "      <th></th>\n",
       "    </tr>\n",
       "  </thead>\n",
       "  <tbody>\n",
       "    <tr>\n",
       "      <th>Low</th>\n",
       "      <td>2014.0</td>\n",
       "      <td>3378.364591</td>\n",
       "      <td>10.6</td>\n",
       "    </tr>\n",
       "    <tr>\n",
       "      <th>Medium</th>\n",
       "      <td>2014.0</td>\n",
       "      <td>12164.228037</td>\n",
       "      <td>43.4</td>\n",
       "    </tr>\n",
       "    <tr>\n",
       "      <th>High</th>\n",
       "      <td>2014.0</td>\n",
       "      <td>37454.808489</td>\n",
       "      <td>78.7</td>\n",
       "    </tr>\n",
       "  </tbody>\n",
       "</table>\n",
       "</div>"
      ],
      "text/plain": [
       "             Year  GDP_Per_Capita  Internet_Users_Pct\n",
       "GDP_group                                            \n",
       "Low        2014.0     3378.364591                10.6\n",
       "Medium     2014.0    12164.228037                43.4\n",
       "High       2014.0    37454.808489                78.7"
      ]
     },
     "execution_count": 219,
     "metadata": {},
     "output_type": "execute_result"
    }
   ],
   "source": [
    "median_groups = gdp_and_internet_use_2014.groupby(['GDP_group']).median('Internet_Users_Pct')\n",
    "median_groups"
   ]
  },
  {
   "cell_type": "markdown",
   "id": "8373fc76",
   "metadata": {},
   "source": [
    "# Answer:median Internet user pct increases  with GDP."
   ]
  },
  {
   "cell_type": "code",
   "execution_count": null,
   "id": "431291c9",
   "metadata": {},
   "outputs": [],
   "source": []
  }
 ],
 "metadata": {
  "kernelspec": {
   "display_name": "Python 3 (ipykernel)",
   "language": "python",
   "name": "python3"
  },
  "language_info": {
   "codemirror_mode": {
    "name": "ipython",
    "version": 3
   },
   "file_extension": ".py",
   "mimetype": "text/x-python",
   "name": "python",
   "nbconvert_exporter": "python",
   "pygments_lexer": "ipython3",
   "version": "3.11.7"
  }
 },
 "nbformat": 4,
 "nbformat_minor": 5
}
